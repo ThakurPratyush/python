{
  "nbformat": 4,
  "nbformat_minor": 0,
  "metadata": {
    "colab": {
      "name": "python.ipynb",
      "provenance": [],
      "collapsed_sections": []
    },
    "kernelspec": {
      "name": "python3",
      "display_name": "Python 3"
    },
    "language_info": {
      "name": "python"
    }
  },
  "cells": [
    {
      "cell_type": "markdown",
      "source": [
        "Python Keywords\n",
        "Keywords are the reserved words in python\n",
        "\n",
        "We can't use a keyword as variable name, function name or any other identifier\n",
        "\n",
        "Keywords are case sentive"
      ],
      "metadata": {
        "id": "FmrlVoH3arYY"
      }
    },
    {
      "cell_type": "code",
      "source": [
        "#Get all keywords in python 3.6\n",
        "\n",
        "import keyword\n",
        "\n",
        "print(keyword.kwlist)\n",
        "\n",
        "print(\"Total number of keywords \", len(keyword.kwlist))"
      ],
      "metadata": {
        "colab": {
          "base_uri": "https://localhost:8080/"
        },
        "id": "x1BPWrp8ar0W",
        "outputId": "773aca40-7097-47b3-f0ee-bc92b05bf6ba"
      },
      "execution_count": null,
      "outputs": [
        {
          "output_type": "stream",
          "name": "stdout",
          "text": [
            "['False', 'None', 'True', 'and', 'as', 'assert', 'async', 'await', 'break', 'class', 'continue', 'def', 'del', 'elif', 'else', 'except', 'finally', 'for', 'from', 'global', 'if', 'import', 'in', 'is', 'lambda', 'nonlocal', 'not', 'or', 'pass', 'raise', 'return', 'try', 'while', 'with', 'yield']\n",
            "Total number of keywords  35\n"
          ]
        }
      ]
    },
    {
      "cell_type": "markdown",
      "source": [
        "Identifiers\n",
        "Identifier is the name given to entities like class, functions, variables etc. in Python. It helps differentiating one entity from another.\n",
        "\n",
        "Rules for Writing Identifiers:\n",
        "\n",
        "Identifiers can be a combination of letters in lowercase (a to z) or uppercase (A to Z) or digits (0 to 9) or an underscore (_).\n",
        "\n",
        "An identifier cannot start with a digit. 1variable is invalid, but variable1 is perfectly fine.\n",
        "\n",
        "Keywords cannot be used as identifiers"
      ],
      "metadata": {
        "id": "re2QqTTibUEk"
      }
    },
    {
      "cell_type": "code",
      "source": [
        "global = 1"
      ],
      "metadata": {
        "colab": {
          "base_uri": "https://localhost:8080/",
          "height": 132
        },
        "id": "3YSHmNdzbUgt",
        "outputId": "91f0cd48-5822-4e5a-f718-f02aa5a98eb8"
      },
      "execution_count": null,
      "outputs": [
        {
          "output_type": "error",
          "ename": "SyntaxError",
          "evalue": "ignored",
          "traceback": [
            "\u001b[0;36m  File \u001b[0;32m\"<ipython-input-2-3d177345d6e4>\"\u001b[0;36m, line \u001b[0;32m1\u001b[0m\n\u001b[0;31m    global = 1\u001b[0m\n\u001b[0m           ^\u001b[0m\n\u001b[0;31mSyntaxError\u001b[0m\u001b[0;31m:\u001b[0m invalid syntax\n"
          ]
        }
      ]
    },
    {
      "cell_type": "code",
      "source": [
        "a@ = 10             #can't use special symbols as an identifier"
      ],
      "metadata": {
        "colab": {
          "base_uri": "https://localhost:8080/",
          "height": 132
        },
        "id": "Wv-ozY3ObYOQ",
        "outputId": "0e8251e5-2d38-4b9c-8977-cfda9a468972"
      },
      "execution_count": null,
      "outputs": [
        {
          "output_type": "error",
          "ename": "SyntaxError",
          "evalue": "ignored",
          "traceback": [
            "\u001b[0;36m  File \u001b[0;32m\"<ipython-input-3-a615a2f3f728>\"\u001b[0;36m, line \u001b[0;32m1\u001b[0m\n\u001b[0;31m    a@ = 10             #can't use special symbols as an identifier\u001b[0m\n\u001b[0m       ^\u001b[0m\n\u001b[0;31mSyntaxError\u001b[0m\u001b[0;31m:\u001b[0m invalid syntax\n"
          ]
        }
      ]
    },
    {
      "cell_type": "markdown",
      "source": [
        "Python Comments\n",
        "Comments are lines that exist in computer programs that are ignored by compilers and interpreters.\n",
        "\n",
        "Including comments in programs makes code more readable for humans as it provides some information or explanation about what each part of a program is doing.\n",
        "\n",
        "In general, it is a good idea to write comments while you are writing or updating a program as it is easy to forget your thought process later on, and comments written later may be less useful in the long term.\n",
        "\n",
        "In Python, we use the hash (#) symbol to start writing a comment."
      ],
      "metadata": {
        "id": "QCFGJDZh585l"
      }
    },
    {
      "cell_type": "code",
      "source": [
        "#Print Hello, world to console\n",
        "print(\"Hello, world\")"
      ],
      "metadata": {
        "colab": {
          "base_uri": "https://localhost:8080/"
        },
        "id": "Xu7wmGxI56s8",
        "outputId": "23654ca4-d9b6-4d2d-ec85-e9efc612ad24"
      },
      "execution_count": null,
      "outputs": [
        {
          "output_type": "stream",
          "name": "stdout",
          "text": [
            "Hello, world\n"
          ]
        }
      ]
    },
    {
      "cell_type": "markdown",
      "source": [
        "Multi Line Comments\n",
        "If we have comments that extend multiple lines, one way of doing it is to use hash (#) in the beginning of each line"
      ],
      "metadata": {
        "id": "YF3d_0TI6K3g"
      }
    },
    {
      "cell_type": "code",
      "source": [
        "#This is a long comment\n",
        "#and it extends \n",
        "#Multiple lines\n"
      ],
      "metadata": {
        "id": "XCRa5xDZ6E08"
      },
      "execution_count": null,
      "outputs": []
    },
    {
      "cell_type": "markdown",
      "source": [
        "Another way of doing this is to use triple quotes, either ''' or \"\"\"."
      ],
      "metadata": {
        "id": "zMtLm4RP6OpC"
      }
    },
    {
      "cell_type": "code",
      "source": [
        "\"\"\"This is also a\n",
        "perfect example of\n",
        "multi-line comments\"\"\""
      ],
      "metadata": {
        "colab": {
          "base_uri": "https://localhost:8080/",
          "height": 35
        },
        "id": "lZvJSujS6GsR",
        "outputId": "79c6dca4-e05d-42ca-904c-627700d1fad4"
      },
      "execution_count": null,
      "outputs": [
        {
          "output_type": "execute_result",
          "data": {
            "application/vnd.google.colaboratory.intrinsic+json": {
              "type": "string"
            },
            "text/plain": [
              "'This is also a\\nperfect example of\\nmulti-line comments'"
            ]
          },
          "metadata": {},
          "execution_count": 4
        }
      ]
    },
    {
      "cell_type": "markdown",
      "source": [
        "DocString in python\n",
        "Docstring is short for documentation string.\n",
        "\n",
        "It is a string that occurs as the first statement in a module, function, class, or method definition."
      ],
      "metadata": {
        "id": "j7PrBKvN6dCT"
      }
    },
    {
      "cell_type": "code",
      "source": [
        "def double(num):\n",
        "    \"\"\"\n",
        "    function to double the number\n",
        "    \"\"\"\n",
        "    return 2 * num\n",
        "\n",
        "print(double(10))"
      ],
      "metadata": {
        "colab": {
          "base_uri": "https://localhost:8080/"
        },
        "id": "aSUlUCOx6aYq",
        "outputId": "d6722a30-6764-4b67-921a-b97bdd5c0c93"
      },
      "execution_count": null,
      "outputs": [
        {
          "output_type": "stream",
          "name": "stdout",
          "text": [
            "20\n"
          ]
        }
      ]
    },
    {
      "cell_type": "code",
      "source": [
        "print(double.__doc__) #Docstring is available to us as the attribute __doc__ of the function"
      ],
      "metadata": {
        "colab": {
          "base_uri": "https://localhost:8080/"
        },
        "id": "jokNDbPZ6v0l",
        "outputId": "a831b4bf-74a5-451c-9aff-5da72cbe1ec4"
      },
      "execution_count": null,
      "outputs": [
        {
          "output_type": "stream",
          "name": "stdout",
          "text": [
            "\n",
            "    function to double the number\n",
            "    \n"
          ]
        }
      ]
    },
    {
      "cell_type": "markdown",
      "source": [
        "Python Indentation\n",
        "Most of the programming languages like C, C++, Java use braces { } to define a block of code. Python uses indentation.\n",
        "\n",
        "A code block (body of a function, loop etc.) starts with indentation and ends with the first unindented line. The amount of indentation is up to you, but it must be consistent throughout that block.\n",
        "\n",
        "Generally four whitespaces are used for indentation and is preferred over tabs."
      ],
      "metadata": {
        "id": "yJ5pbDWd69FL"
      }
    },
    {
      "cell_type": "code",
      "source": [
        "for i in range(10):\n",
        "    print(i)"
      ],
      "metadata": {
        "colab": {
          "base_uri": "https://localhost:8080/"
        },
        "id": "RyYxiJ4N6x2V",
        "outputId": "011f9101-c866-496c-ecae-cc8a11cdaf59"
      },
      "execution_count": null,
      "outputs": [
        {
          "output_type": "stream",
          "name": "stdout",
          "text": [
            "0\n",
            "1\n",
            "2\n",
            "3\n",
            "4\n",
            "5\n",
            "6\n",
            "7\n",
            "8\n",
            "9\n"
          ]
        }
      ]
    },
    {
      "cell_type": "code",
      "source": [
        "if True:\n",
        "    print (\"Machine Learning\")\n",
        "    c = \"AAIC\""
      ],
      "metadata": {
        "colab": {
          "base_uri": "https://localhost:8080/"
        },
        "id": "-0kc7dxm6_9Z",
        "outputId": "ff73fbe0-efd2-47b4-d997-bf0bab2fe6a1"
      },
      "execution_count": null,
      "outputs": [
        {
          "output_type": "stream",
          "name": "stdout",
          "text": [
            "Machine Learning\n"
          ]
        }
      ]
    },
    {
      "cell_type": "code",
      "source": [
        "if True: print (\"Machine Learning\"); c = \"AAIC\""
      ],
      "metadata": {
        "colab": {
          "base_uri": "https://localhost:8080/"
        },
        "id": "lD-GCzT37D5i",
        "outputId": "14b6f5bd-fd90-4d80-b4c5-60f5bead0a16"
      },
      "execution_count": null,
      "outputs": [
        {
          "output_type": "stream",
          "name": "stdout",
          "text": [
            "Machine Learning\n"
          ]
        }
      ]
    },
    {
      "cell_type": "markdown",
      "source": [
        "Python Statement\n",
        "Instructions that a Python interpreter can execute are called statements.\n",
        "\n",
        "Examples:"
      ],
      "metadata": {
        "id": "Hv7yti8K7J1g"
      }
    },
    {
      "cell_type": "code",
      "source": [
        " a = 1  #single statement"
      ],
      "metadata": {
        "id": "9cmXzMPU7HQY"
      },
      "execution_count": null,
      "outputs": []
    },
    {
      "cell_type": "markdown",
      "source": [
        "Multi-Line Statement\n",
        "In Python, end of a statement is marked by a newline character. But we can make a statement extend over multiple lines with the line continuation character ()."
      ],
      "metadata": {
        "id": "_5Dj-wit7OaJ"
      }
    },
    {
      "cell_type": "code",
      "source": [
        "a = 1 + 2 + 3 + \\\n",
        "    4 + 5 + 6 + \\\n",
        "    7 + 8"
      ],
      "metadata": {
        "id": "nRNWhFLB7OrY"
      },
      "execution_count": null,
      "outputs": []
    },
    {
      "cell_type": "code",
      "source": [
        "print(a)"
      ],
      "metadata": {
        "colab": {
          "base_uri": "https://localhost:8080/"
        },
        "id": "V9K94h2d7Qu3",
        "outputId": "101af99c-e667-4b43-b528-5d2fad6039aa"
      },
      "execution_count": null,
      "outputs": [
        {
          "output_type": "stream",
          "name": "stdout",
          "text": [
            "36\n"
          ]
        }
      ]
    },
    {
      "cell_type": "code",
      "source": [
        "#another way is\n",
        "a = (1 + 2 + 3 +\n",
        "    4 + 5 + 6 + \n",
        "    7 + 8)\n",
        "print (a)"
      ],
      "metadata": {
        "colab": {
          "base_uri": "https://localhost:8080/"
        },
        "id": "EK7EkWzN7SYY",
        "outputId": "997af760-c393-4a08-a38f-8ede83248f64"
      },
      "execution_count": null,
      "outputs": [
        {
          "output_type": "stream",
          "name": "stdout",
          "text": [
            "36\n"
          ]
        }
      ]
    },
    {
      "cell_type": "code",
      "source": [
        "a = 10; b = 20; c = 30   #put multiple statements in a single line using ;"
      ],
      "metadata": {
        "id": "JZVfcfxL7V10"
      },
      "execution_count": null,
      "outputs": []
    },
    {
      "cell_type": "markdown",
      "source": [
        "Strings\n",
        "A string is a sequence of characters.\n",
        "\n",
        "Computers do not deal with characters, they deal with numbers (binary). Even though you may see characters on your screen, internally it is stored and manipulated as a combination of 0's and 1's.\n",
        "\n",
        "This conversion of character to a number is called encoding, and the reverse process is decoding. ASCII and Unicode are some of the popular encoding used.\n",
        "\n",
        "In Python, string is a sequence of Unicode character.\n",
        "For more details about unicode\n",
        "\n",
        "https://docs.python.org/3.3/howto/unicode.html\n",
        "\n",
        "\n",
        "How to create a string?\n",
        "Strings can be created by enclosing characters inside a single quote or double quotes.\n",
        "\n",
        "Even triple quotes can be used in Python but generally used to represent multiline strings and docstrings"
      ],
      "metadata": {
        "id": "NX9-VedX7nq_"
      }
    },
    {
      "cell_type": "code",
      "source": [
        "myString = 'Hello'\n",
        "\n",
        "print(myString)\n",
        "\n",
        "\n",
        "myString = \"Hello\"\n",
        "print(myString)\n",
        "\n",
        "\n",
        "myString = '''Hello'''\n",
        "print(myString)"
      ],
      "metadata": {
        "colab": {
          "base_uri": "https://localhost:8080/"
        },
        "id": "fjRaVr5S7XkT",
        "outputId": "dbc51560-5558-4644-fecf-0c39b4e81e59"
      },
      "execution_count": null,
      "outputs": [
        {
          "output_type": "stream",
          "name": "stdout",
          "text": [
            "Hello\n",
            "Hello\n",
            "Hello\n"
          ]
        }
      ]
    },
    {
      "cell_type": "markdown",
      "source": [
        "How to access characters in a string?\n",
        "We can access individual characters using indexing and a range of characters using slicing.\n",
        "\n",
        "Index starts from 0.\n",
        "\n",
        "Trying to access a character out of index range will raise an IndexError.\n",
        "\n",
        "The index must be an integer. We can't use float or other types, this will result into TypeError.\n",
        "\n",
        "Python allows negative indexing for its sequences."
      ],
      "metadata": {
        "id": "7MLs8tnq7vSE"
      }
    },
    {
      "cell_type": "code",
      "source": [
        "myString = \"Hello\"\n",
        "\n",
        "#print first Character\n",
        "print(myString[0])\n",
        "\n",
        "#print last character using negative indexing\n",
        "print(myString[-1])\n",
        "\n",
        "#slicing 2nd to 5th character\n",
        "print(myString[2:5])"
      ],
      "metadata": {
        "colab": {
          "base_uri": "https://localhost:8080/"
        },
        "id": "hApWu-Pv7tNC",
        "outputId": "3e4265c3-691b-4a97-bd16-994eccd329a5"
      },
      "execution_count": null,
      "outputs": [
        {
          "output_type": "stream",
          "name": "stdout",
          "text": [
            "H\n",
            "o\n",
            "llo\n"
          ]
        }
      ]
    },
    {
      "cell_type": "code",
      "source": [
        "print(myString[15])"
      ],
      "metadata": {
        "colab": {
          "base_uri": "https://localhost:8080/",
          "height": 167
        },
        "id": "n9e9vEiD7xvQ",
        "outputId": "c90896cc-cf88-47a8-926a-5f6cbeb4ec94"
      },
      "execution_count": null,
      "outputs": [
        {
          "output_type": "error",
          "ename": "IndexError",
          "evalue": "ignored",
          "traceback": [
            "\u001b[0;31m---------------------------------------------------------------------------\u001b[0m",
            "\u001b[0;31mIndexError\u001b[0m                                Traceback (most recent call last)",
            "\u001b[0;32m<ipython-input-21-a6e04654a783>\u001b[0m in \u001b[0;36m<module>\u001b[0;34m()\u001b[0m\n\u001b[0;32m----> 1\u001b[0;31m \u001b[0mprint\u001b[0m\u001b[0;34m(\u001b[0m\u001b[0mmyString\u001b[0m\u001b[0;34m[\u001b[0m\u001b[0;36m15\u001b[0m\u001b[0;34m]\u001b[0m\u001b[0;34m)\u001b[0m\u001b[0;34m\u001b[0m\u001b[0;34m\u001b[0m\u001b[0m\n\u001b[0m",
            "\u001b[0;31mIndexError\u001b[0m: string index out of range"
          ]
        }
      ]
    },
    {
      "cell_type": "code",
      "source": [
        "print(myString[1.5])"
      ],
      "metadata": {
        "colab": {
          "base_uri": "https://localhost:8080/",
          "height": 167
        },
        "id": "NZVHbmxw70lV",
        "outputId": "5eb77e8f-bbf6-4bf8-cb3d-312064b4d37f"
      },
      "execution_count": null,
      "outputs": [
        {
          "output_type": "error",
          "ename": "TypeError",
          "evalue": "ignored",
          "traceback": [
            "\u001b[0;31m---------------------------------------------------------------------------\u001b[0m",
            "\u001b[0;31mTypeError\u001b[0m                                 Traceback (most recent call last)",
            "\u001b[0;32m<ipython-input-22-f317be76d762>\u001b[0m in \u001b[0;36m<module>\u001b[0;34m()\u001b[0m\n\u001b[0;32m----> 1\u001b[0;31m \u001b[0mprint\u001b[0m\u001b[0;34m(\u001b[0m\u001b[0mmyString\u001b[0m\u001b[0;34m[\u001b[0m\u001b[0;36m1.5\u001b[0m\u001b[0;34m]\u001b[0m\u001b[0;34m)\u001b[0m\u001b[0;34m\u001b[0m\u001b[0;34m\u001b[0m\u001b[0m\n\u001b[0m",
            "\u001b[0;31mTypeError\u001b[0m: string indices must be integers"
          ]
        }
      ]
    },
    {
      "cell_type": "markdown",
      "source": [
        "How to change or delete a string ?\n",
        "Strings are immutable. This means that elements of a string cannot be changed once it has been assigned.\n",
        "\n",
        "We can simply reassign different strings to the same name."
      ],
      "metadata": {
        "id": "ziln1VvF8xNW"
      }
    },
    {
      "cell_type": "code",
      "source": [
        "myString = \"Hello\"\n",
        "myString[4] = 's' # strings are immutable"
      ],
      "metadata": {
        "colab": {
          "base_uri": "https://localhost:8080/",
          "height": 184
        },
        "id": "QSB5tqDN72pD",
        "outputId": "963f65f5-ff91-4d89-c7c5-dd1b9c59ddd0"
      },
      "execution_count": null,
      "outputs": [
        {
          "output_type": "error",
          "ename": "TypeError",
          "evalue": "ignored",
          "traceback": [
            "\u001b[0;31m---------------------------------------------------------------------------\u001b[0m",
            "\u001b[0;31mTypeError\u001b[0m                                 Traceback (most recent call last)",
            "\u001b[0;32m<ipython-input-23-786fea0a1f9c>\u001b[0m in \u001b[0;36m<module>\u001b[0;34m()\u001b[0m\n\u001b[1;32m      1\u001b[0m \u001b[0mmyString\u001b[0m \u001b[0;34m=\u001b[0m \u001b[0;34m\"Hello\"\u001b[0m\u001b[0;34m\u001b[0m\u001b[0;34m\u001b[0m\u001b[0m\n\u001b[0;32m----> 2\u001b[0;31m \u001b[0mmyString\u001b[0m\u001b[0;34m[\u001b[0m\u001b[0;36m4\u001b[0m\u001b[0;34m]\u001b[0m \u001b[0;34m=\u001b[0m \u001b[0;34m's'\u001b[0m \u001b[0;31m# strings are immutable\u001b[0m\u001b[0;34m\u001b[0m\u001b[0;34m\u001b[0m\u001b[0m\n\u001b[0m",
            "\u001b[0;31mTypeError\u001b[0m: 'str' object does not support item assignment"
          ]
        }
      ]
    },
    {
      "cell_type": "code",
      "source": [
        "del myString # delete complete string"
      ],
      "metadata": {
        "id": "l6fEEoIV8zYm"
      },
      "execution_count": null,
      "outputs": []
    },
    {
      "cell_type": "code",
      "source": [
        "print(myString)"
      ],
      "metadata": {
        "colab": {
          "base_uri": "https://localhost:8080/",
          "height": 167
        },
        "id": "9t_LIsAD81sZ",
        "outputId": "e4b39445-ef68-4e89-ff30-dc2f57fc1be6"
      },
      "execution_count": null,
      "outputs": [
        {
          "output_type": "error",
          "ename": "NameError",
          "evalue": "ignored",
          "traceback": [
            "\u001b[0;31m---------------------------------------------------------------------------\u001b[0m",
            "\u001b[0;31mNameError\u001b[0m                                 Traceback (most recent call last)",
            "\u001b[0;32m<ipython-input-25-13235c81a0c6>\u001b[0m in \u001b[0;36m<module>\u001b[0;34m()\u001b[0m\n\u001b[0;32m----> 1\u001b[0;31m \u001b[0mprint\u001b[0m\u001b[0;34m(\u001b[0m\u001b[0mmyString\u001b[0m\u001b[0;34m)\u001b[0m\u001b[0;34m\u001b[0m\u001b[0;34m\u001b[0m\u001b[0m\n\u001b[0m",
            "\u001b[0;31mNameError\u001b[0m: name 'myString' is not defined"
          ]
        }
      ]
    },
    {
      "cell_type": "markdown",
      "source": [
        "String Operations\n",
        "Concatenation\n",
        "Joining of two or more strings into a single one is called concatenation.\n",
        "\n",
        "The + operator does this in Python. Simply writing two string literals together also concatenates them.\n",
        "\n",
        "The * operator can be used to repeat the string for a given number of times."
      ],
      "metadata": {
        "id": "wpScmQK787vo"
      }
    },
    {
      "cell_type": "code",
      "source": [
        "s1 = \"Hello \"\n",
        "s2 = \"Satish\"\n",
        "\n",
        "#concatenation of 2 strings\n",
        "print(s1 + s2)\n",
        "\n",
        "#repeat string n times\n",
        "print(s1 * 3)"
      ],
      "metadata": {
        "colab": {
          "base_uri": "https://localhost:8080/"
        },
        "id": "DxsyUWIK83ga",
        "outputId": "83641492-3c84-4327-f116-64893f4af559"
      },
      "execution_count": null,
      "outputs": [
        {
          "output_type": "stream",
          "name": "stdout",
          "text": [
            "Hello Satish\n",
            "Hello Hello Hello \n"
          ]
        }
      ]
    },
    {
      "cell_type": "markdown",
      "source": [
        "Iterating Through String"
      ],
      "metadata": {
        "id": "aYgID6Gg9AiH"
      }
    },
    {
      "cell_type": "code",
      "source": [
        "count = 0\n",
        "for l in \"Hello World\":\n",
        "    if l == 'o':\n",
        "        count += 1\n",
        "print(count, ' letters found')"
      ],
      "metadata": {
        "colab": {
          "base_uri": "https://localhost:8080/"
        },
        "id": "V3YDk6Yb8-Uk",
        "outputId": "25f92595-9881-4440-a8d2-ca3265766bb3"
      },
      "execution_count": null,
      "outputs": [
        {
          "output_type": "stream",
          "name": "stdout",
          "text": [
            "2  letters found\n"
          ]
        }
      ]
    },
    {
      "cell_type": "markdown",
      "source": [
        "String Membership Test"
      ],
      "metadata": {
        "id": "N4bVfgZc9Ekq"
      }
    },
    {
      "cell_type": "code",
      "source": [
        "print('l' in 'Hello World') #in operator to test membership"
      ],
      "metadata": {
        "colab": {
          "base_uri": "https://localhost:8080/"
        },
        "id": "Avza0NKm9Cdg",
        "outputId": "6e66ad57-4f7a-454a-a0be-ba372a5679e4"
      },
      "execution_count": null,
      "outputs": [
        {
          "output_type": "stream",
          "name": "stdout",
          "text": [
            "True\n"
          ]
        }
      ]
    },
    {
      "cell_type": "code",
      "source": [
        "print('or' in 'Hello World')"
      ],
      "metadata": {
        "colab": {
          "base_uri": "https://localhost:8080/"
        },
        "id": "TeHwBWbv9HCA",
        "outputId": "4ac3b330-d224-4eb3-ff9d-2479f802d2fc"
      },
      "execution_count": null,
      "outputs": [
        {
          "output_type": "stream",
          "name": "stdout",
          "text": [
            "True\n"
          ]
        }
      ]
    },
    {
      "cell_type": "markdown",
      "source": [
        "String Methods\n",
        "Some of the commonly used methods are lower(), upper(), join(), split(), find(), replace() etc"
      ],
      "metadata": {
        "id": "SnacDraS9JPL"
      }
    },
    {
      "cell_type": "code",
      "source": [
        "\"Hello\".lower()"
      ],
      "metadata": {
        "colab": {
          "base_uri": "https://localhost:8080/",
          "height": 35
        },
        "id": "2Y_4AN4A9Io7",
        "outputId": "d9bfd5e2-f7c7-4789-f1a5-8401b51f4152"
      },
      "execution_count": null,
      "outputs": [
        {
          "output_type": "execute_result",
          "data": {
            "application/vnd.google.colaboratory.intrinsic+json": {
              "type": "string"
            },
            "text/plain": [
              "'hello'"
            ]
          },
          "metadata": {},
          "execution_count": 30
        }
      ]
    },
    {
      "cell_type": "code",
      "source": [
        "\"Hello\".upper()"
      ],
      "metadata": {
        "colab": {
          "base_uri": "https://localhost:8080/",
          "height": 35
        },
        "id": "xk6rO-4Y9NZf",
        "outputId": "fb8ddccd-e433-4f12-a73c-255c9cb8f170"
      },
      "execution_count": null,
      "outputs": [
        {
          "output_type": "execute_result",
          "data": {
            "application/vnd.google.colaboratory.intrinsic+json": {
              "type": "string"
            },
            "text/plain": [
              "'HELLO'"
            ]
          },
          "metadata": {},
          "execution_count": 31
        }
      ]
    },
    {
      "cell_type": "code",
      "source": [
        "\"This will split all words in a list\".split()"
      ],
      "metadata": {
        "colab": {
          "base_uri": "https://localhost:8080/"
        },
        "id": "yNMgBAVC9O7x",
        "outputId": "ef13f4f7-c287-47df-9033-b7223120a1bf"
      },
      "execution_count": null,
      "outputs": [
        {
          "output_type": "execute_result",
          "data": {
            "text/plain": [
              "['This', 'will', 'split', 'all', 'words', 'in', 'a', 'list']"
            ]
          },
          "metadata": {},
          "execution_count": 32
        }
      ]
    },
    {
      "cell_type": "code",
      "source": [
        "' '.join(['This', 'will', 'split', 'all', 'words', 'in', 'a', 'list'])"
      ],
      "metadata": {
        "colab": {
          "base_uri": "https://localhost:8080/",
          "height": 35
        },
        "id": "sAJQONTJ9REn",
        "outputId": "cc6a6c6e-50d1-420e-8ceb-87d218d6e660"
      },
      "execution_count": null,
      "outputs": [
        {
          "output_type": "execute_result",
          "data": {
            "application/vnd.google.colaboratory.intrinsic+json": {
              "type": "string"
            },
            "text/plain": [
              "'This will split all words in a list'"
            ]
          },
          "metadata": {},
          "execution_count": 33
        }
      ]
    },
    {
      "cell_type": "code",
      "source": [
        "\"Good Morning\".find(\"Mo\")"
      ],
      "metadata": {
        "colab": {
          "base_uri": "https://localhost:8080/"
        },
        "id": "LFd1CHEp9T9g",
        "outputId": "885dee07-7df4-48e6-9b04-7110faf9206e"
      },
      "execution_count": null,
      "outputs": [
        {
          "output_type": "execute_result",
          "data": {
            "text/plain": [
              "5"
            ]
          },
          "metadata": {},
          "execution_count": 34
        }
      ]
    },
    {
      "cell_type": "code",
      "source": [
        "s1 = \"Bad morning\"\n",
        "\n",
        "s2 = s1.replace(\"Bad\", \"Good\")\n",
        "\n",
        "print(s1)\n",
        "print(s2)"
      ],
      "metadata": {
        "colab": {
          "base_uri": "https://localhost:8080/"
        },
        "id": "YR0LO5Ry9XXP",
        "outputId": "50de9dee-5f2d-4bb8-a7d9-df699c35b199"
      },
      "execution_count": null,
      "outputs": [
        {
          "output_type": "stream",
          "name": "stdout",
          "text": [
            "Bad morning\n",
            "Good morning\n"
          ]
        }
      ]
    },
    {
      "cell_type": "markdown",
      "source": [
        "Python Program to Check where a String is Palindrome or not ?"
      ],
      "metadata": {
        "id": "4fprfaHj9a_Y"
      }
    },
    {
      "cell_type": "code",
      "source": [
        "myStr = \"Madam\"\n",
        "\n",
        "#convert entire string to either lower or upper\n",
        "myStr = myStr.lower()\n",
        "\n",
        "#reverse string\n",
        "revStr = reversed(myStr)\n",
        "\n",
        "\n",
        "#check if the string is equal to its reverse\n",
        "if list(myStr) == list(revStr):\n",
        "    print(\"Given String is palindrome\")\n",
        "else:\n",
        "    print(\"Given String is not palindrome\")"
      ],
      "metadata": {
        "colab": {
          "base_uri": "https://localhost:8080/"
        },
        "id": "DmPU8zPy9aA4",
        "outputId": "2979255e-95aa-412c-d580-ca9b2cf0b41d"
      },
      "execution_count": null,
      "outputs": [
        {
          "output_type": "stream",
          "name": "stdout",
          "text": [
            "Given String is palindrome\n"
          ]
        }
      ]
    },
    {
      "cell_type": "markdown",
      "source": [
        "Python Program to Sort Words in Alphabetic Order?"
      ],
      "metadata": {
        "id": "49wLAJP99imB"
      }
    },
    {
      "cell_type": "code",
      "source": [
        "myStr = \"python Program to Sort words in Alphabetic Order\"\n",
        "\n",
        "#breakdown the string into list of words\n",
        "words = myStr.split()\n",
        "\n",
        "#sort the list\n",
        "words.sort()\n",
        "\n",
        "#print Sorted words are\n",
        "for word in words:\n",
        "    print(word)"
      ],
      "metadata": {
        "colab": {
          "base_uri": "https://localhost:8080/"
        },
        "id": "VasH1zyd9fY_",
        "outputId": "7d020fb5-21d7-4b98-f5df-123fe32a8755"
      },
      "execution_count": null,
      "outputs": [
        {
          "output_type": "stream",
          "name": "stdout",
          "text": [
            "Alphabetic\n",
            "Order\n",
            "Program\n",
            "Sort\n",
            "in\n",
            "python\n",
            "to\n",
            "words\n"
          ]
        }
      ]
    },
    {
      "cell_type": "markdown",
      "source": [
        "Variables\n",
        "A variable is a location in memory used to store some data (value).\n",
        "\n",
        "They are given unique names to differentiate between different memory locations. The rules for writing a variable name is same as the rules for writing identifiers in Python.\n",
        "\n",
        "We don't need to declare a variable before using it. In Python, we simply assign a value to a variable and it will exist. We don't even have to declare the type of the variable. This is handled internally according to the type of value we assign to the variable.\n",
        "\n",
        "Variable Assignments"
      ],
      "metadata": {
        "id": "lfudDrza97pO"
      }
    },
    {
      "cell_type": "code",
      "source": [
        "#We use the assignment operator (=) to assign values to a variable\n",
        "\n",
        "a = 10\n",
        "b = 5.5\n",
        "c = \"ML\""
      ],
      "metadata": {
        "id": "sR87ikYf9lfg"
      },
      "execution_count": null,
      "outputs": []
    },
    {
      "cell_type": "markdown",
      "source": [
        "Multiple Assignments"
      ],
      "metadata": {
        "id": "TSMAaF219_U1"
      }
    },
    {
      "cell_type": "code",
      "source": [
        "a, b, c = 10, 5.5, \"ML\""
      ],
      "metadata": {
        "id": "8cNmzmvb99f1"
      },
      "execution_count": null,
      "outputs": []
    },
    {
      "cell_type": "code",
      "source": [
        "a = b = c = \"AI\" #assign the same value to multiple variables at once"
      ],
      "metadata": {
        "id": "pBH7YwgR-A5d"
      },
      "execution_count": null,
      "outputs": []
    },
    {
      "cell_type": "markdown",
      "source": [
        "Storage Locations"
      ],
      "metadata": {
        "id": "ti_XeTLv-EO_"
      }
    },
    {
      "cell_type": "code",
      "source": [
        "x = 3\n",
        "\n",
        "print(id(x))               #print address of variable x"
      ],
      "metadata": {
        "colab": {
          "base_uri": "https://localhost:8080/"
        },
        "id": "ZHVUTmuc-Can",
        "outputId": "deadd415-955c-4e84-d393-1fbfb49b7201"
      },
      "execution_count": null,
      "outputs": [
        {
          "output_type": "stream",
          "name": "stdout",
          "text": [
            "94641092352576\n"
          ]
        }
      ]
    },
    {
      "cell_type": "code",
      "source": [
        "y = 2\n",
        "print(id(y))               #print address of variable y"
      ],
      "metadata": {
        "colab": {
          "base_uri": "https://localhost:8080/"
        },
        "id": "EgPUea0r-HG-",
        "outputId": "6f165b6d-4b67-4036-b173-799d259b476e"
      },
      "execution_count": null,
      "outputs": [
        {
          "output_type": "stream",
          "name": "stdout",
          "text": [
            "94641092352544\n"
          ]
        }
      ]
    },
    {
      "cell_type": "markdown",
      "source": [
        "Observation:\n",
        "\n",
        "x and y points to same memory location"
      ],
      "metadata": {
        "id": "LvGARjQj-Lm7"
      }
    },
    {
      "cell_type": "markdown",
      "source": [
        "Data Types\n",
        "Every value in Python has a datatype. Since everything is an object in Python programming, data types are actually classes and variables are instance (object) of these classes.\n",
        "\n",
        "Numbers\n",
        "Integers, floating point numbers and complex numbers falls under Python numbers category. They are defined as int, float and complex class in Python.\n",
        "\n",
        "We can use the type() function to know which class a variable or a value belongs to and the isinstance() function to check if an object belongs to a particular class."
      ],
      "metadata": {
        "id": "Hpe9S7UT-NzP"
      }
    },
    {
      "cell_type": "code",
      "source": [
        "a = 5                               #data type is implicitly set to integer\n",
        "print(a, \" is of type\", type(a))"
      ],
      "metadata": {
        "colab": {
          "base_uri": "https://localhost:8080/"
        },
        "id": "uu5HX4sS-I40",
        "outputId": "3954d025-f5a9-4bc9-8157-34f673f3a2be"
      },
      "execution_count": null,
      "outputs": [
        {
          "output_type": "stream",
          "name": "stdout",
          "text": [
            "5  is of type <class 'int'>\n"
          ]
        }
      ]
    },
    {
      "cell_type": "code",
      "source": [
        "a = 2.5                            #data type is changed to float\n",
        "print(a, \" is of type\", type(a))"
      ],
      "metadata": {
        "colab": {
          "base_uri": "https://localhost:8080/"
        },
        "id": "mqVOP5rK-SGW",
        "outputId": "b45f02eb-2235-452b-8c28-1bb0973391fb"
      },
      "execution_count": null,
      "outputs": [
        {
          "output_type": "stream",
          "name": "stdout",
          "text": [
            "2.5  is of type <class 'float'>\n"
          ]
        }
      ]
    },
    {
      "cell_type": "code",
      "source": [
        "a = 1 + 2j                          #data type is changed to complex number\n",
        "print(a, \" is complex number?\") \n",
        "print(isinstance(1+2j, complex))"
      ],
      "metadata": {
        "colab": {
          "base_uri": "https://localhost:8080/"
        },
        "id": "VBXRj4cK-Txm",
        "outputId": "09d26491-f12d-4575-db73-7a71f501836f"
      },
      "execution_count": null,
      "outputs": [
        {
          "output_type": "stream",
          "name": "stdout",
          "text": [
            "(1+2j)  is complex number?\n",
            "True\n"
          ]
        }
      ]
    },
    {
      "cell_type": "markdown",
      "source": [
        "Boolean\n",
        "Boolean represents the truth values False and True"
      ],
      "metadata": {
        "id": "RXmB_BFX-dbA"
      }
    },
    {
      "cell_type": "code",
      "source": [
        "a = True                          #a is a boolean type\n",
        "print(type(a))"
      ],
      "metadata": {
        "colab": {
          "base_uri": "https://localhost:8080/"
        },
        "id": "Sjg4watX-doT",
        "outputId": "18a7123c-8742-4a62-b742-a5e44e48e522"
      },
      "execution_count": null,
      "outputs": [
        {
          "output_type": "stream",
          "name": "stdout",
          "text": [
            "<class 'bool'>\n"
          ]
        }
      ]
    },
    {
      "cell_type": "markdown",
      "source": [
        "Python Strings\n",
        "String is sequence of Unicode characters.\n",
        "\n",
        "We can use single quotes or double quotes to represent strings.\n",
        "\n",
        "Multi-line strings can be denoted using triple quotes, ''' or \"\"\".\n",
        "\n",
        "A string in Python consists of a series or sequence of characters - letters, numbers, and special characters.\n",
        "\n",
        "Strings can be indexed - often synonymously called subscripted as well.\n",
        "\n",
        "Similar to C, the first character of a string has the index 0."
      ],
      "metadata": {
        "id": "8i0U2Etq-htT"
      }
    },
    {
      "cell_type": "code",
      "source": [
        "s = \"This is Online AI course\"\n",
        "print(s)"
      ],
      "metadata": {
        "colab": {
          "base_uri": "https://localhost:8080/"
        },
        "id": "1MtGCAKh-fPb",
        "outputId": "7d28ea3a-21c2-4dfe-8c9c-904c3ce08afc"
      },
      "execution_count": null,
      "outputs": [
        {
          "output_type": "stream",
          "name": "stdout",
          "text": [
            "This is Online AI course\n"
          ]
        }
      ]
    },
    {
      "cell_type": "code",
      "source": [
        "print(s[0])\n",
        "#last char s[len(s)-1] or s[-1]"
      ],
      "metadata": {
        "colab": {
          "base_uri": "https://localhost:8080/"
        },
        "id": "fZVWGJPz-qRN",
        "outputId": "da969f98-5310-49f6-c4e2-3dde7e272055"
      },
      "execution_count": null,
      "outputs": [
        {
          "output_type": "stream",
          "name": "stdout",
          "text": [
            "T\n"
          ]
        }
      ]
    },
    {
      "cell_type": "code",
      "source": [
        "#slicing\n",
        "s[5:]"
      ],
      "metadata": {
        "colab": {
          "base_uri": "https://localhost:8080/",
          "height": 35
        },
        "id": "k2P2ssa0-r38",
        "outputId": "2f41e739-1abc-4dfa-ab05-c9d216469ed7"
      },
      "execution_count": null,
      "outputs": [
        {
          "output_type": "execute_result",
          "data": {
            "application/vnd.google.colaboratory.intrinsic+json": {
              "type": "string"
            },
            "text/plain": [
              "'is Online AI course'"
            ]
          },
          "metadata": {},
          "execution_count": 49
        }
      ]
    },
    {
      "cell_type": "markdown",
      "source": [
        "Python List\n",
        "List is an ordered sequence of items. It is one of the most used datatype in Python and is very flexible. All the items in a list do not need to be of the same type.\n",
        "\n",
        "Declaring a list is , Items separated by commas are enclosed within brackets [ ]."
      ],
      "metadata": {
        "id": "Osp1uS1r-vTi"
      }
    },
    {
      "cell_type": "code",
      "source": [
        "a = [10, 20.5, \"Hello\"]\n",
        "print(a[1])               #print 1st index element"
      ],
      "metadata": {
        "colab": {
          "base_uri": "https://localhost:8080/"
        },
        "id": "R0kU93zO-tRK",
        "outputId": "3f774865-8faf-4f76-f59c-1e7f0020f17e"
      },
      "execution_count": null,
      "outputs": [
        {
          "output_type": "stream",
          "name": "stdout",
          "text": [
            "20.5\n"
          ]
        }
      ]
    },
    {
      "cell_type": "code",
      "source": [
        "a[1] = 30.7\n",
        "print(a)"
      ],
      "metadata": {
        "colab": {
          "base_uri": "https://localhost:8080/"
        },
        "id": "Typ8fp8y-4Wf",
        "outputId": "753154f4-37ee-4842-855f-f86f462f1c44"
      },
      "execution_count": null,
      "outputs": [
        {
          "output_type": "stream",
          "name": "stdout",
          "text": [
            "[10, 30.7, 'Hello']\n"
          ]
        }
      ]
    },
    {
      "cell_type": "markdown",
      "source": [
        "Python Tuple\n",
        "Tuple is an ordered sequence of items same as list.The only difference is that tuples are immutable. Tuples once created cannot be modified."
      ],
      "metadata": {
        "id": "Vi5qZCyY_QTl"
      }
    },
    {
      "cell_type": "code",
      "source": [
        "t = (1, 1.5, \"ML\")"
      ],
      "metadata": {
        "id": "jBAdR3Vc-6uM"
      },
      "execution_count": null,
      "outputs": []
    },
    {
      "cell_type": "code",
      "source": [
        "print(t[1]) #extract particular element"
      ],
      "metadata": {
        "colab": {
          "base_uri": "https://localhost:8080/"
        },
        "id": "Zz_w9qrq_SU7",
        "outputId": "72952b62-e5af-45db-8b0b-523dab586802"
      },
      "execution_count": null,
      "outputs": [
        {
          "output_type": "stream",
          "name": "stdout",
          "text": [
            "1.5\n"
          ]
        }
      ]
    },
    {
      "cell_type": "code",
      "source": [
        "t[1] = 1.25"
      ],
      "metadata": {
        "colab": {
          "base_uri": "https://localhost:8080/",
          "height": 167
        },
        "id": "W3I444BC_UM6",
        "outputId": "b9132abb-93d1-495f-f210-604eb610ebf5"
      },
      "execution_count": null,
      "outputs": [
        {
          "output_type": "error",
          "ename": "TypeError",
          "evalue": "ignored",
          "traceback": [
            "\u001b[0;31m---------------------------------------------------------------------------\u001b[0m",
            "\u001b[0;31mTypeError\u001b[0m                                 Traceback (most recent call last)",
            "\u001b[0;32m<ipython-input-54-826a3e5c5c91>\u001b[0m in \u001b[0;36m<module>\u001b[0;34m()\u001b[0m\n\u001b[0;32m----> 1\u001b[0;31m \u001b[0mt\u001b[0m\u001b[0;34m[\u001b[0m\u001b[0;36m1\u001b[0m\u001b[0;34m]\u001b[0m \u001b[0;34m=\u001b[0m \u001b[0;36m1.25\u001b[0m\u001b[0;34m\u001b[0m\u001b[0;34m\u001b[0m\u001b[0m\n\u001b[0m",
            "\u001b[0;31mTypeError\u001b[0m: 'tuple' object does not support item assignment"
          ]
        }
      ]
    },
    {
      "cell_type": "markdown",
      "source": [
        "Python Set\n",
        "Set is an unordered collection of unique items. Set is defined by values separated by comma inside braces { }. Items in a set are not ordered."
      ],
      "metadata": {
        "id": "d_0bR8OK_Y_6"
      }
    },
    {
      "cell_type": "code",
      "source": [
        "a = {10, 30, 20, 40, 5}\n",
        "print(a)"
      ],
      "metadata": {
        "colab": {
          "base_uri": "https://localhost:8080/"
        },
        "id": "GuCcEylJ_WEY",
        "outputId": "39c1eb20-8052-4f68-b1c2-fe1d338e2f2a"
      },
      "execution_count": null,
      "outputs": [
        {
          "output_type": "stream",
          "name": "stdout",
          "text": [
            "{5, 40, 10, 20, 30}\n"
          ]
        }
      ]
    },
    {
      "cell_type": "code",
      "source": [
        "print(type(a))             #print type of a"
      ],
      "metadata": {
        "colab": {
          "base_uri": "https://localhost:8080/"
        },
        "id": "FEIs854U_bCB",
        "outputId": "41ea6df6-e51b-4e38-8bf3-df745cb0d5a3"
      },
      "execution_count": null,
      "outputs": [
        {
          "output_type": "stream",
          "name": "stdout",
          "text": [
            "<class 'set'>\n"
          ]
        }
      ]
    },
    {
      "cell_type": "code",
      "source": [
        "s = {10, 20, 20, 30, 30, 30}\n",
        "print(s)                    #automatically set won't consider duplicate elements"
      ],
      "metadata": {
        "colab": {
          "base_uri": "https://localhost:8080/"
        },
        "id": "kx2cc10E_c51",
        "outputId": "99d35368-570b-4117-9764-18c421d511fe"
      },
      "execution_count": null,
      "outputs": [
        {
          "output_type": "stream",
          "name": "stdout",
          "text": [
            "{10, 20, 30}\n"
          ]
        }
      ]
    },
    {
      "cell_type": "code",
      "source": [
        "print(s[1]) #we can't print particular element in set because \n",
        "            #it's unorder collections of items"
      ],
      "metadata": {
        "colab": {
          "base_uri": "https://localhost:8080/",
          "height": 184
        },
        "id": "AgRwaeuX_gDU",
        "outputId": "1f1d3000-441c-4d2b-c398-4736b364eeab"
      },
      "execution_count": null,
      "outputs": [
        {
          "output_type": "error",
          "ename": "TypeError",
          "evalue": "ignored",
          "traceback": [
            "\u001b[0;31m---------------------------------------------------------------------------\u001b[0m",
            "\u001b[0;31mTypeError\u001b[0m                                 Traceback (most recent call last)",
            "\u001b[0;32m<ipython-input-58-3e2f312e6983>\u001b[0m in \u001b[0;36m<module>\u001b[0;34m()\u001b[0m\n\u001b[0;32m----> 1\u001b[0;31m \u001b[0mprint\u001b[0m\u001b[0;34m(\u001b[0m\u001b[0ms\u001b[0m\u001b[0;34m[\u001b[0m\u001b[0;36m1\u001b[0m\u001b[0;34m]\u001b[0m\u001b[0;34m)\u001b[0m \u001b[0;31m#we can't print particular element in set because\u001b[0m\u001b[0;34m\u001b[0m\u001b[0;34m\u001b[0m\u001b[0m\n\u001b[0m\u001b[1;32m      2\u001b[0m             \u001b[0;31m#it's unorder collections of items\u001b[0m\u001b[0;34m\u001b[0m\u001b[0;34m\u001b[0m\u001b[0;34m\u001b[0m\u001b[0m\n",
            "\u001b[0;31mTypeError\u001b[0m: 'set' object is not subscriptable"
          ]
        }
      ]
    },
    {
      "cell_type": "markdown",
      "source": [
        "\n",
        "Python Dictionary\n",
        "Dictionary is an unordered collection of key-value pairs.\n",
        "\n",
        "In Python, dictionaries are defined within braces {} with each item being a pair in the form key:value. Key and value can be of any type."
      ],
      "metadata": {
        "id": "goDs1u0I_l90"
      }
    },
    {
      "cell_type": "code",
      "source": [
        "d = {'a': \"apple\", 'b': \"bat\"}\n",
        "print d['a']"
      ],
      "metadata": {
        "id": "glJXADBF_qzx"
      },
      "execution_count": null,
      "outputs": []
    },
    {
      "cell_type": "markdown",
      "source": [
        "Conversion between Datatypes\n",
        "We can convert between different data types by using different type conversion functions like int(), float(), str() etc."
      ],
      "metadata": {
        "id": "r9a-63Ee_usA"
      }
    },
    {
      "cell_type": "code",
      "source": [
        "float(5)     #convert interger to float using float() method"
      ],
      "metadata": {
        "colab": {
          "base_uri": "https://localhost:8080/"
        },
        "id": "I7t0IoqT_sON",
        "outputId": "13d09b86-67cc-41e2-a748-da93fff95045"
      },
      "execution_count": null,
      "outputs": [
        {
          "data": {
            "text/plain": [
              "5.0"
            ]
          },
          "execution_count": null,
          "metadata": {},
          "output_type": "execute_result"
        }
      ]
    },
    {
      "cell_type": "code",
      "source": [
        "int(100.5)   #convert float to integer using int() method"
      ],
      "metadata": {
        "colab": {
          "base_uri": "https://localhost:8080/"
        },
        "id": "fEVz7RSO_wyf",
        "outputId": "a6691df3-eb9f-4d6c-a804-72896fdffccc"
      },
      "execution_count": null,
      "outputs": [
        {
          "data": {
            "text/plain": [
              "100"
            ]
          },
          "execution_count": null,
          "metadata": {},
          "output_type": "execute_result"
        }
      ]
    },
    {
      "cell_type": "code",
      "source": [
        "str(20)      #convert integer to string"
      ],
      "metadata": {
        "colab": {
          "base_uri": "https://localhost:8080/",
          "height": 35
        },
        "id": "kObR_NxF_yTo",
        "outputId": "25b81532-ec3c-4592-f6eb-5b097a4f7048"
      },
      "execution_count": null,
      "outputs": [
        {
          "data": {
            "application/vnd.google.colaboratory.intrinsic+json": {
              "type": "string"
            },
            "text/plain": [
              "'20'"
            ]
          },
          "execution_count": null,
          "metadata": {},
          "output_type": "execute_result"
        }
      ]
    },
    {
      "cell_type": "code",
      "source": [
        "int('10p')"
      ],
      "metadata": {
        "colab": {
          "base_uri": "https://localhost:8080/",
          "height": 167
        },
        "id": "8QnSBBlj_0WF",
        "outputId": "801d5772-f72a-4dba-b22f-bbcb7581379a"
      },
      "execution_count": null,
      "outputs": [
        {
          "ename": "ValueError",
          "evalue": "ignored",
          "output_type": "error",
          "traceback": [
            "\u001b[0;31m---------------------------------------------------------------------------\u001b[0m",
            "\u001b[0;31mValueError\u001b[0m                                Traceback (most recent call last)",
            "\u001b[0;32m<ipython-input-63-8bb83f613c14>\u001b[0m in \u001b[0;36m<module>\u001b[0;34m()\u001b[0m\n\u001b[0;32m----> 1\u001b[0;31m \u001b[0mint\u001b[0m\u001b[0;34m(\u001b[0m\u001b[0;34m'10p'\u001b[0m\u001b[0;34m)\u001b[0m\u001b[0;34m\u001b[0m\u001b[0;34m\u001b[0m\u001b[0m\n\u001b[0m",
            "\u001b[0;31mValueError\u001b[0m: invalid literal for int() with base 10: '10p'"
          ]
        }
      ]
    },
    {
      "cell_type": "code",
      "source": [
        "user = \"satish\"\n",
        "lines = 100\n",
        "\n",
        "print(\"Congratulations, \" + user + \"! You just wrote \" + str(lines) + \" lines of code\" )\n",
        "#remove str and gives error"
      ],
      "metadata": {
        "colab": {
          "base_uri": "https://localhost:8080/"
        },
        "id": "E287bfDw_2Bf",
        "outputId": "460cd52c-4793-4dbc-8ee8-467cdaa625f8"
      },
      "execution_count": null,
      "outputs": [
        {
          "metadata": {
            "tags": null
          },
          "name": "stdout",
          "output_type": "stream",
          "text": [
            "Congratulations, satish! You just wrote 100 lines of code\n"
          ]
        }
      ]
    },
    {
      "cell_type": "code",
      "source": [
        "a = [1, 2, 3]\n",
        "\n",
        "print(type(a))      #type of a is list \n",
        "\n",
        "s = set(a)          #convert list to set using set() method\n",
        "\n",
        "print(type(s))      #now type of s is set"
      ],
      "metadata": {
        "colab": {
          "base_uri": "https://localhost:8080/"
        },
        "id": "UN_L1mXC_4ER",
        "outputId": "ef32918e-a712-418e-bfd5-d07fecd89f6b"
      },
      "execution_count": null,
      "outputs": [
        {
          "metadata": {
            "tags": null
          },
          "name": "stdout",
          "output_type": "stream",
          "text": [
            "<class 'list'>\n",
            "<class 'set'>\n"
          ]
        }
      ]
    },
    {
      "cell_type": "code",
      "source": [
        "list(\"Hello\")       #convert String to list using list() method"
      ],
      "metadata": {
        "colab": {
          "base_uri": "https://localhost:8080/"
        },
        "id": "AJhArg35_5t8",
        "outputId": "33b4a14f-fc83-4309-9d4f-ef451dcd19d7"
      },
      "execution_count": null,
      "outputs": [
        {
          "output_type": "execute_result",
          "data": {
            "text/plain": [
              "['H', 'e', 'l', 'l', 'o']"
            ]
          },
          "metadata": {},
          "execution_count": 66
        }
      ]
    },
    {
      "cell_type": "markdown",
      "source": [
        "Operators\n",
        "Operators are special symbols in Python that carry out arithmetic or logical computation. The value that the operator operates on is called the operand.\n",
        "\n",
        "Operator Types\n",
        "Arithmetic operators\n",
        "\n",
        "Comparison (Relational) operators\n",
        "\n",
        "Logical (Boolean) operators\n",
        "\n",
        "Bitwise operators\n",
        "\n",
        "Assignment operators\n",
        "\n",
        "Special operators\n",
        "\n",
        "Arithmetic Operators\n",
        "Arithmetic operators are used to perform mathematical operations like addition, subtraction, multiplication etc.\n",
        "\n",
        "+ , -, *, /, %, //, **  are arithmetic operators\n",
        "Example:"
      ],
      "metadata": {
        "id": "GWYbdrPmAND5"
      }
    },
    {
      "cell_type": "code",
      "source": [
        "x, y = 10, 20\n",
        "\n",
        "#addition\n",
        "print(x + y)\n",
        "\n",
        "#subtraction(-)\n",
        "\n",
        "#multiplication(*)\n",
        "\n",
        "#division(/)\n",
        "\n",
        "#modulo division (%)\n",
        "\n",
        "#Floor Division (//)\n",
        "\n",
        "#Exponent (**)"
      ],
      "metadata": {
        "colab": {
          "base_uri": "https://localhost:8080/"
        },
        "id": "b-g0ofk0_7fl",
        "outputId": "ea9f9775-ccf4-4ace-8a9e-11a319e76b98"
      },
      "execution_count": null,
      "outputs": [
        {
          "output_type": "stream",
          "name": "stdout",
          "text": [
            "30\n"
          ]
        }
      ]
    },
    {
      "cell_type": "markdown",
      "source": [
        "Comparision Operators\n",
        "Comparison operators are used to compare values. It either returns True or False according to the condition.\n",
        "\n",
        ">, <, ==, !=, >=, <= are comparision operators"
      ],
      "metadata": {
        "id": "3eXoV59aARii"
      }
    },
    {
      "cell_type": "code",
      "source": [
        "a, b = 10, 20         \n",
        "\n",
        "print(a < b)  #check a is less than b\n",
        "\n",
        "#check a is greater than b\n",
        "\n",
        "#check a is equal to b\n",
        "\n",
        "#check a is not equal to b (!=)\n",
        "\n",
        "#check a greater than or equal to b\n",
        "\n",
        "#check a less than or equal to b"
      ],
      "metadata": {
        "colab": {
          "base_uri": "https://localhost:8080/"
        },
        "id": "6XJMf5K0APod",
        "outputId": "0eab1d2b-7aed-453a-cdcd-dce36054f182"
      },
      "execution_count": null,
      "outputs": [
        {
          "output_type": "stream",
          "name": "stdout",
          "text": [
            "True\n"
          ]
        }
      ]
    },
    {
      "cell_type": "markdown",
      "source": [
        "Logical Operators\n",
        "Logical operators are and, or, not operators."
      ],
      "metadata": {
        "id": "PI75oBOPAY_P"
      }
    },
    {
      "cell_type": "code",
      "source": [
        "a, b = True, False\n",
        "\n",
        "#print a and b\n",
        "print(a and b)\n",
        "\n",
        "#print a or b\n",
        "\n",
        "#print not b"
      ],
      "metadata": {
        "colab": {
          "base_uri": "https://localhost:8080/"
        },
        "id": "p3mCRRe2AVb3",
        "outputId": "d7b747d1-0642-4b63-b889-0b2646e5243d"
      },
      "execution_count": null,
      "outputs": [
        {
          "output_type": "stream",
          "name": "stdout",
          "text": [
            "False\n"
          ]
        }
      ]
    },
    {
      "cell_type": "markdown",
      "source": [
        "Bitwise operators\n",
        "Bitwise operators act on operands as if they were string of binary digits. It operates bit by bit\n",
        "\n",
        "&,  |,  ~,  ^,  >>,  << are Bitwise operators"
      ],
      "metadata": {
        "id": "xqTQJWJRAfvu"
      }
    },
    {
      "cell_type": "code",
      "source": [
        "a, b = 10, 4\n",
        "\n",
        "#Bitwise AND\n",
        "print(a & b)\n",
        "\n",
        "#Bitwise OR\n",
        "\n",
        "\n",
        "#Bitwise NOT\n",
        "\n",
        "\n",
        "#Bitwise XOR\n",
        "\n",
        "\n",
        "#Bitwise rightshift\n",
        "\n",
        "\n",
        "#Bitwise Leftshift"
      ],
      "metadata": {
        "colab": {
          "base_uri": "https://localhost:8080/"
        },
        "id": "HXTu9_dYAa3Z",
        "outputId": "dce10262-55cb-46cc-c7d2-dd2021734f8c"
      },
      "execution_count": null,
      "outputs": [
        {
          "output_type": "stream",
          "name": "stdout",
          "text": [
            "0\n"
          ]
        }
      ]
    },
    {
      "cell_type": "markdown",
      "source": [
        "Assignment operators\n",
        "Assignment operators are used in Python to assign values to variables.\n",
        "\n",
        "a = 5 is a simple assignment operator that assigns the value 5 on the right to the variable a on the left.\n",
        "\n",
        "=,  +=,  -=,  *=,  /=,  %=,  //=,  **=, &=,  |=,  ^=,  >>=,  <<= are Assignment operators"
      ],
      "metadata": {
        "id": "NGo4qXxnAmA_"
      }
    },
    {
      "cell_type": "code",
      "source": [
        "a = 10\n",
        "\n",
        "a += 10         #add AND\n",
        "print(a)\n",
        "\n",
        "#subtract AND (-=)\n",
        "\n",
        "#Multiply AND (*=)\n",
        "\n",
        "#Divide AND (/=)\n",
        "\n",
        "#Modulus AND (%=)\n",
        "\n",
        "#Floor Division (//=)\n",
        "\n",
        "#Exponent AND (**=)/"
      ],
      "metadata": {
        "colab": {
          "base_uri": "https://localhost:8080/"
        },
        "id": "mx1XpR0BAeEO",
        "outputId": "b7ff4aa6-e6ad-4722-9510-720d467c51b7"
      },
      "execution_count": null,
      "outputs": [
        {
          "output_type": "stream",
          "name": "stdout",
          "text": [
            "20\n"
          ]
        }
      ]
    },
    {
      "cell_type": "markdown",
      "source": [
        "Special Operators\n",
        "Identity Operators\n",
        "is and is not are the identity operators in Python.\n",
        "\n",
        "They are used to check if two values (or variables) are located on the same part of the memory./"
      ],
      "metadata": {
        "id": "3KNfG9NwAwo8"
      }
    },
    {
      "cell_type": "code",
      "source": [
        "a = 5\n",
        "b = 5\n",
        "print(a is b)    #5 is object created once both a and b points to same object\n",
        "\n",
        "#check is not"
      ],
      "metadata": {
        "colab": {
          "base_uri": "https://localhost:8080/"
        },
        "id": "7gdtfXxFAonB",
        "outputId": "8ef16e9c-fb16-4749-c795-d33f6a980e58"
      },
      "execution_count": null,
      "outputs": [
        {
          "output_type": "stream",
          "name": "stdout",
          "text": [
            "True\n"
          ]
        }
      ]
    },
    {
      "cell_type": "code",
      "source": [
        "l1 = [1, 2, 3]\n",
        "l2 = [1, 2, 3]\n",
        "print(l1 is l2)"
      ],
      "metadata": {
        "colab": {
          "base_uri": "https://localhost:8080/"
        },
        "id": "G8bzTNzDAzcN",
        "outputId": "1e843a18-9442-4258-e635-00dc361bfe2f"
      },
      "execution_count": null,
      "outputs": [
        {
          "output_type": "stream",
          "name": "stdout",
          "text": [
            "False\n"
          ]
        }
      ]
    },
    {
      "cell_type": "code",
      "source": [
        "s1 = \"Satish\"\n",
        "s2 = \"Satish\"\n",
        "print(s1 is not s2)"
      ],
      "metadata": {
        "colab": {
          "base_uri": "https://localhost:8080/"
        },
        "id": "ABonsaRRA2KL",
        "outputId": "66606940-4ace-41fa-aeef-4b3fcd819e11"
      },
      "execution_count": null,
      "outputs": [
        {
          "output_type": "stream",
          "name": "stdout",
          "text": [
            "False\n"
          ]
        }
      ]
    },
    {
      "cell_type": "markdown",
      "source": [
        "MemberShip Operators\n",
        "in and not in are the membership operators in Python.\n",
        "\n",
        "They are used to test whether a value or variable is found in a sequence (string, list, tuple, set and dictionary)."
      ],
      "metadata": {
        "id": "dbomFgOpA6Bb"
      }
    },
    {
      "cell_type": "code",
      "source": [
        "lst = [1, 2, 3, 4]\n",
        "print(1 in lst)       #check 1 is present in a given list or not\n",
        "\n",
        "#check 5 is present in a given list"
      ],
      "metadata": {
        "colab": {
          "base_uri": "https://localhost:8080/"
        },
        "id": "wxg6y00mA5c9",
        "outputId": "b7ab1998-cf88-4c7a-97b7-d33e79ff1340"
      },
      "execution_count": null,
      "outputs": [
        {
          "output_type": "stream",
          "name": "stdout",
          "text": [
            "True\n"
          ]
        }
      ]
    },
    {
      "cell_type": "code",
      "source": [
        "d = {1: \"a\", 2: \"b\"}\n",
        "print(1 in d)"
      ],
      "metadata": {
        "colab": {
          "base_uri": "https://localhost:8080/"
        },
        "id": "UtezkdcUA83j",
        "outputId": "bf8d6669-b446-4a1c-90af-89ee5e1b8269"
      },
      "execution_count": null,
      "outputs": [
        {
          "output_type": "stream",
          "name": "stdout",
          "text": [
            "True\n"
          ]
        }
      ]
    },
    {
      "cell_type": "markdown",
      "source": [
        "Python while Loop\n",
        "The while loop in Python is used to iterate over a block of code as long as the test expression (condition) is true.\n",
        "\n",
        "Syntax:\n",
        "while test_expression:\n",
        "\n",
        "    Body of while\n",
        "The body of the loop is entered only if the test_expression evaluates to True.\n",
        "\n",
        "After one iteration, the test expression is checked again.\n",
        "\n",
        "This process continues until the test_expression evaluates to False."
      ],
      "metadata": {
        "id": "4xJgjYsZBn5t"
      }
    },
    {
      "cell_type": "code",
      "source": [
        "#Find product of all numbers present in a list\n",
        "\n",
        "lst = [10, 20, 30, 40, 60]\n",
        "\n",
        "product = 1\n",
        "index = 0\n",
        "\n",
        "while index < len(lst):\n",
        "    product *= lst[index]\n",
        "    index += 1\n",
        "\n",
        "print(\"Product is: {}\".format(product))"
      ],
      "metadata": {
        "colab": {
          "base_uri": "https://localhost:8080/"
        },
        "id": "iozNMF4VA_38",
        "outputId": "19d3eea6-302e-48ec-e7ae-68b50b6fb926"
      },
      "execution_count": null,
      "outputs": [
        {
          "output_type": "stream",
          "name": "stdout",
          "text": [
            "Product is: 14400000\n"
          ]
        }
      ]
    },
    {
      "cell_type": "markdown",
      "source": [
        "while Loop with else\n",
        "Same as that of for loop, we can have an optional else block with while loop as well.\n",
        "\n",
        "The else part is executed if the condition in the while loop evaluates to False. The while loop can be terminated with a break statement.\n",
        "\n",
        "In such case, the else part is ignored. Hence, a while loop's else part runs if no break occurs and the condition is false."
      ],
      "metadata": {
        "id": "dPa65ZrqBt1v"
      }
    },
    {
      "cell_type": "code",
      "source": [
        "numbers = [1, 2, 3,4,5]\n",
        "#iterating over the list\n",
        "index = 0\n",
        "while (index < len(numbers)):\n",
        "    print(numbers[index])\n",
        "    index += 1\n",
        "    \n",
        "else:\n",
        "    print(\"no item left in the list\")"
      ],
      "metadata": {
        "colab": {
          "base_uri": "https://localhost:8080/"
        },
        "id": "QOjHGB3VBrTX",
        "outputId": "1a138f02-1531-45fe-ff4b-795e249446fa"
      },
      "execution_count": null,
      "outputs": [
        {
          "output_type": "stream",
          "name": "stdout",
          "text": [
            "1\n",
            "2\n",
            "3\n",
            "4\n",
            "5\n",
            "no item left in the list\n"
          ]
        }
      ]
    },
    {
      "cell_type": "code",
      "source": [
        "num = int(input(\"Enter a number: \"))        #convert string to int\n",
        "\n",
        "\n",
        "isDivisible = False;\n",
        "\n",
        "i=2;\n",
        "while i < num:\n",
        "    if num % i == 0:\n",
        "        isDivisible = True;\n",
        "        print (\"{} is divisible by {}\".format(num,i) )\n",
        "    i += 1;\n",
        "    \n",
        "if isDivisible:\n",
        "    print(\"{} is NOT a Prime number\".format(num))\n",
        "else:\n",
        "    print(\"{} is a Prime number\".format(num))"
      ],
      "metadata": {
        "colab": {
          "base_uri": "https://localhost:8080/"
        },
        "id": "XmiD9BSBBtVV",
        "outputId": "20c67df0-b654-4036-e44b-81fb78464dd2"
      },
      "execution_count": null,
      "outputs": [
        {
          "output_type": "stream",
          "name": "stdout",
          "text": [
            "Enter a number: 16\n",
            "16 is divisible by 2\n",
            "16 is divisible by 4\n",
            "16 is divisible by 8\n",
            "16 is NOT a Prime number\n"
          ]
        }
      ]
    },
    {
      "cell_type": "markdown",
      "source": [
        "Python Input and Output\n",
        "Python Output\n",
        "We use the print() function to output data to the standard output device"
      ],
      "metadata": {
        "id": "_jZhR89BCftS"
      }
    },
    {
      "cell_type": "code",
      "source": [
        "print(\"Hello World\")"
      ],
      "metadata": {
        "colab": {
          "base_uri": "https://localhost:8080/"
        },
        "id": "dI3JDCc7B-0T",
        "outputId": "63fb96af-8963-43df-94f4-c41df5c23131"
      },
      "execution_count": null,
      "outputs": [
        {
          "output_type": "stream",
          "name": "stdout",
          "text": [
            "Hello World\n"
          ]
        }
      ]
    },
    {
      "cell_type": "code",
      "source": [
        "a = 10\n",
        "print(\"The value of a is\", a) #python 3\n",
        "print (\"The value of a is \" + str(a))"
      ],
      "metadata": {
        "colab": {
          "base_uri": "https://localhost:8080/"
        },
        "id": "Gux5MPyRCj3f",
        "outputId": "fc9ef719-024b-4879-c06f-12e093464ef4"
      },
      "execution_count": null,
      "outputs": [
        {
          "output_type": "stream",
          "name": "stdout",
          "text": [
            "The value of a is 10\n",
            "The value of a is 10\n"
          ]
        }
      ]
    },
    {
      "cell_type": "code",
      "source": [
        "a = 10; b = 20 #multiple statements in single line.\n",
        "\n",
        "print(\"The value of a is {} and b is {}\".format(a, b))    #default"
      ],
      "metadata": {
        "colab": {
          "base_uri": "https://localhost:8080/"
        },
        "id": "BFRDb94tCoPe",
        "outputId": "8c3b60db-e5a1-4911-c4ee-77738f1b6506"
      },
      "execution_count": null,
      "outputs": [
        {
          "output_type": "stream",
          "name": "stdout",
          "text": [
            "The value of a is 10 and b is 20\n"
          ]
        }
      ]
    },
    {
      "cell_type": "code",
      "source": [
        "a = 10; b = 20  #multiple statements in single line\n",
        "\n",
        "print(\"The value of b is {1} and a is {0}\".format(a, b)) #specify position of arguments"
      ],
      "metadata": {
        "colab": {
          "base_uri": "https://localhost:8080/"
        },
        "id": "7HeZlWxYCuLI",
        "outputId": "b722fffa-f5e7-4a98-a44a-7a5baa535f17"
      },
      "execution_count": null,
      "outputs": [
        {
          "output_type": "stream",
          "name": "stdout",
          "text": [
            "The value of b is 20 and a is 10\n"
          ]
        }
      ]
    },
    {
      "cell_type": "code",
      "source": [
        "#we can use keyword arguments to format the string\n",
        "print(\"Hello {name}, {greeting}\".format(name=\"satish\", greeting=\"Good Morning\"))"
      ],
      "metadata": {
        "colab": {
          "base_uri": "https://localhost:8080/"
        },
        "id": "8FhzU9RTCvwL",
        "outputId": "8d3a3432-55d9-4c2b-b4b6-8c2cea05c624"
      },
      "execution_count": null,
      "outputs": [
        {
          "output_type": "stream",
          "name": "stdout",
          "text": [
            "Hello satish, Good Morning\n"
          ]
        }
      ]
    },
    {
      "cell_type": "code",
      "source": [
        "#we can combine positional arguments with keyword arguments\n",
        "print('The story of {0}, {1}, and {other}'.format('Bill', 'Manfred',\n",
        "                                                       other='Georg'))"
      ],
      "metadata": {
        "colab": {
          "base_uri": "https://localhost:8080/"
        },
        "id": "GbJcnfGxCxQD",
        "outputId": "44722814-59a5-4617-d080-699fc99ae873"
      },
      "execution_count": null,
      "outputs": [
        {
          "output_type": "stream",
          "name": "stdout",
          "text": [
            "The story of Bill, Manfred, and Georg\n"
          ]
        }
      ]
    },
    {
      "cell_type": "markdown",
      "source": [
        "Python Input\n",
        "want to take the input from the user. In Python, we have the input() function to allow this."
      ],
      "metadata": {
        "id": "0K9yNbjEC3zB"
      }
    },
    {
      "cell_type": "code",
      "source": [
        "num = input(\"Enter a number: \")\n",
        "print (num)"
      ],
      "metadata": {
        "colab": {
          "base_uri": "https://localhost:8080/"
        },
        "id": "AmUNgMuxCzMi",
        "outputId": "90264e0b-f4b2-4272-ce29-f56ec7c688e9"
      },
      "execution_count": null,
      "outputs": [
        {
          "output_type": "stream",
          "name": "stdout",
          "text": [
            "Enter a number: 12\n",
            "12\n"
          ]
        }
      ]
    },
    {
      "cell_type": "markdown",
      "source": [
        "Python for Loop\n",
        "The for loop in Python is used to iterate over a sequence (list, tuple, string) or other iterable objects.\n",
        "\n",
        "Iterating over a sequence is called traversal.\n",
        "\n",
        "Syntax:\n",
        "for element in sequence :\n",
        "\n",
        "    Body of for\n",
        "Here, element is the variable that takes the value of the item inside the sequence on each iteration.\n",
        "\n",
        "Loop continues until we reach the last item in the sequence."
      ],
      "metadata": {
        "id": "tNjOcaLgDr3-"
      }
    },
    {
      "cell_type": "code",
      "source": [
        "#Find product of all numbers present in a list\n",
        "\n",
        "lst = [10, 20, 30, 40, 50]\n",
        "\n",
        "product = 1\n",
        "#iterating over the list\n",
        "for ele in lst:\n",
        "    product *= ele\n",
        "\n",
        "print(\"Product is: {}\".format(product))"
      ],
      "metadata": {
        "colab": {
          "base_uri": "https://localhost:8080/"
        },
        "id": "UWBmTIo6C5lo",
        "outputId": "6a553953-24b9-49ab-c8cd-53bbe92442fd"
      },
      "execution_count": null,
      "outputs": [
        {
          "output_type": "stream",
          "name": "stdout",
          "text": [
            "Product is: 12000000\n"
          ]
        }
      ]
    },
    {
      "cell_type": "markdown",
      "source": [
        "range() function\n",
        "We can generate a sequence of numbers using range() function. range(10) will generate numbers from 0 to 9 (10 numbers).\n",
        "\n",
        "We can also define the start, stop and step size as range(start,stop,step size). step size defaults to 1 if not provided.\n",
        "\n",
        "This function does not store all the values in memory, it would be inefficient. So it remembers the start, stop, step size and generates the next number on the go."
      ],
      "metadata": {
        "id": "Lbr-OOx3DxIE"
      }
    },
    {
      "cell_type": "code",
      "source": [
        "#print range of 10\n",
        "for i in range(10):\n",
        "    print(i)"
      ],
      "metadata": {
        "colab": {
          "base_uri": "https://localhost:8080/"
        },
        "id": "K3JuY6xNDwMK",
        "outputId": "ba15dbaa-e392-4268-982f-06829bf5b0d0"
      },
      "execution_count": null,
      "outputs": [
        {
          "output_type": "stream",
          "name": "stdout",
          "text": [
            "0\n",
            "1\n",
            "2\n",
            "3\n",
            "4\n",
            "5\n",
            "6\n",
            "7\n",
            "8\n",
            "9\n"
          ]
        }
      ]
    },
    {
      "cell_type": "code",
      "source": [
        "#print range of numbers from 1 to 20 with step size of 2\n",
        "for i in range(0, 20, 5):\n",
        "    print(i)"
      ],
      "metadata": {
        "colab": {
          "base_uri": "https://localhost:8080/"
        },
        "id": "_94PglCJD0oU",
        "outputId": "dbe240a8-72eb-4ab1-9171-21dc92f38d6b"
      },
      "execution_count": null,
      "outputs": [
        {
          "output_type": "stream",
          "name": "stdout",
          "text": [
            "0\n",
            "5\n",
            "10\n",
            "15\n"
          ]
        }
      ]
    },
    {
      "cell_type": "code",
      "source": [
        "lst = [\"satish\", \"srinu\", \"murali\", \"naveen\", \"bramha\"]\n",
        "\n",
        "#iterate over the list using index\n",
        "#for index in range(len(lst)):\n",
        "#    print(lst[index])\n",
        "for ele in lst:\n",
        "    print(ele)"
      ],
      "metadata": {
        "colab": {
          "base_uri": "https://localhost:8080/"
        },
        "id": "gjeHRWJjD2H8",
        "outputId": "a70a02ab-8697-4516-cbc5-fada6334a1f0"
      },
      "execution_count": null,
      "outputs": [
        {
          "output_type": "stream",
          "name": "stdout",
          "text": [
            "satish\n",
            "srinu\n",
            "murali\n",
            "naveen\n",
            "bramha\n"
          ]
        }
      ]
    },
    {
      "cell_type": "markdown",
      "source": [
        "for loop with else\n",
        "A for loop can have an optional else block as well. The else part is executed if the items in the sequence used in for loop exhausts.\n",
        "\n",
        "break statement can be used to stop a for loop. In such case, the else part is ignored.\n",
        "\n",
        "Hence, a for loop's else part runs if no break occurs."
      ],
      "metadata": {
        "id": "ry_vmImKD4_W"
      }
    },
    {
      "cell_type": "code",
      "source": [
        "numbers = [1, 2, 3]\n",
        "\n",
        "#iterating over the list\n",
        "for item in numbers:\n",
        "    print(item)\n",
        "else:\n",
        "    print(\"no item left in the list\")"
      ],
      "metadata": {
        "colab": {
          "base_uri": "https://localhost:8080/"
        },
        "id": "YpjgfNvXD3b9",
        "outputId": "8be85bb0-29cd-41a5-bbec-26bafde4b3ab"
      },
      "execution_count": null,
      "outputs": [
        {
          "output_type": "stream",
          "name": "stdout",
          "text": [
            "1\n",
            "2\n",
            "3\n",
            "no item left in the list\n"
          ]
        }
      ]
    },
    {
      "cell_type": "code",
      "source": [
        "for item in numbers:\n",
        "    print(item)\n",
        "    if item % 2 == 0:\n",
        "        break\n",
        "else:\n",
        "    print(\"no item left in the list\")"
      ],
      "metadata": {
        "colab": {
          "base_uri": "https://localhost:8080/"
        },
        "id": "QqOH8qyXD7Ac",
        "outputId": "4d879cce-b8a5-4e46-9c3d-26d4972296a6"
      },
      "execution_count": null,
      "outputs": [
        {
          "output_type": "stream",
          "name": "stdout",
          "text": [
            "1\n",
            "2\n"
          ]
        }
      ]
    },
    {
      "cell_type": "markdown",
      "source": [
        "Python Program to display all prime numbers within an interval"
      ],
      "metadata": {
        "id": "O08P4ACQD-J0"
      }
    },
    {
      "cell_type": "code",
      "source": [
        "index1 = 20\n",
        "index2 = 50\n",
        "\n",
        "print(\"Prime numbers between {0} and {1} are :\".format(index1, index2))\n",
        "\n",
        "for num in range(index1, index2+1):      #default step size is 1\n",
        "    if num > 1:\n",
        "        isDivisible = False;\n",
        "        for index in range(2, num):\n",
        "            if num % index == 0:\n",
        "                isDivisible = True;\n",
        "        if not isDivisible:        \n",
        "            print(num);"
      ],
      "metadata": {
        "colab": {
          "base_uri": "https://localhost:8080/"
        },
        "id": "FYp7Gnm9D8oQ",
        "outputId": "944b13b8-fa00-42a3-9ca0-2c8dd018ef20"
      },
      "execution_count": null,
      "outputs": [
        {
          "output_type": "stream",
          "name": "stdout",
          "text": [
            "Prime numbers between 20 and 50 are :\n",
            "23\n",
            "29\n",
            "31\n",
            "37\n",
            "41\n",
            "43\n",
            "47\n"
          ]
        }
      ]
    },
    {
      "cell_type": "markdown",
      "source": [
        "Python break and continue Statements\n",
        "In Python, break and continue statements can alter the flow of a normal loop.\n",
        "\n",
        "Loops iterate over a block of code until test expression is false, but sometimes we wish to terminate the current iteration or even the whole loop without cheking test expression.\n",
        "\n",
        "The break and continue statements are used in these cases.\n",
        "\n",
        "Python break Statement\n",
        "Syntax:"
      ],
      "metadata": {
        "id": "5-eTBdouEAmQ"
      }
    },
    {
      "cell_type": "code",
      "source": [
        "numbers = [1, 2, 3, 4]\n",
        "for num in numbers:          #iterating over list\n",
        "    if num == 4:\n",
        "        break\n",
        "    print(num)\n",
        "else:\n",
        "    print(\"in the else-block\")\n",
        "print(\"Outside of for loop\")"
      ],
      "metadata": {
        "colab": {
          "base_uri": "https://localhost:8080/"
        },
        "id": "AWQYHaofEAGF",
        "outputId": "ecfa9f02-f61c-4f55-bea1-0f844ce3c857"
      },
      "execution_count": null,
      "outputs": [
        {
          "output_type": "stream",
          "name": "stdout",
          "text": [
            "1\n",
            "2\n",
            "3\n",
            "Outside of for loop\n"
          ]
        }
      ]
    },
    {
      "cell_type": "markdown",
      "source": [
        "Python Program to check given number is Prime number or not (using break)"
      ],
      "metadata": {
        "id": "-bYUnbnSEIT2"
      }
    },
    {
      "cell_type": "code",
      "source": [
        "num = int(input(\"Enter a number: \"))        #convert string to int\n",
        "\n",
        "\n",
        "isDivisible = False;\n",
        "\n",
        "i=2;\n",
        "while i < num:\n",
        "    if num % i == 0:\n",
        "        isDivisible = True;\n",
        "        print (\"{} is divisible by {}\".format(num,i) )\n",
        "        break; # this line is the only addition.\n",
        "    i += 1;\n",
        "    \n",
        "if isDivisible:\n",
        "    print(\"{} is NOT a Prime number\".format(num))\n",
        "else:\n",
        "    print(\"{} is a Prime number\".format(num))"
      ],
      "metadata": {
        "colab": {
          "base_uri": "https://localhost:8080/"
        },
        "id": "5EbYWrL0EGO9",
        "outputId": "d92b327d-ecc3-4ed2-e59c-157f8affe336"
      },
      "execution_count": null,
      "outputs": [
        {
          "output_type": "stream",
          "name": "stdout",
          "text": [
            "Enter a number: 12\n",
            "12 is divisible by 2\n",
            "12 is NOT a Prime number\n"
          ]
        }
      ]
    },
    {
      "cell_type": "markdown",
      "source": [
        "Python Continue Statement\n",
        "syntax:\n",
        "\n",
        "continue"
      ],
      "metadata": {
        "id": "vNFOPBuEENtv"
      }
    },
    {
      "cell_type": "code",
      "source": [
        "#print odd numbers present in a list\n",
        "numbers = [1, 2, 3, 4, 5]\n",
        "\n",
        "for num in numbers:\n",
        "    if num % 2 == 0:\n",
        "        continue\n",
        "    print(num)\n",
        "else:\n",
        "    print(\"else-block\")"
      ],
      "metadata": {
        "colab": {
          "base_uri": "https://localhost:8080/"
        },
        "id": "ncgBgQc-EKE3",
        "outputId": "44e2e195-1db4-4aa3-848b-610532d8a4bf"
      },
      "execution_count": null,
      "outputs": [
        {
          "output_type": "stream",
          "name": "stdout",
          "text": [
            "1\n",
            "3\n",
            "5\n",
            "else-block\n"
          ]
        }
      ]
    },
    {
      "cell_type": "markdown",
      "source": [
        "Lists\n",
        "Data Structure:\n",
        "\n",
        "A data structure is a collection of data elements (such as numbers or characters—or even other data structures) that is structured in some way, for example, by numbering the elements. The most basic data structure in Python is the \"sequence\".\n",
        "\n",
        "-> List is one of the Sequence Data structure\n",
        "\n",
        "-> Lists are collection of items (Strings, integers or even other lists)\n",
        "\n",
        "-> Lists are enclosed in [ ]\n",
        "\n",
        "-> Each item in the list has an assigned index value.\n",
        "\n",
        "-> Each item in a list is separated by a comma\n",
        "\n",
        "-> Lists are mutable, which means they can be changed.\n",
        "\n",
        "List Creation"
      ],
      "metadata": {
        "id": "ojGf-SwAElR2"
      }
    },
    {
      "cell_type": "code",
      "source": [
        "emptyList = []\n",
        "\n",
        "lst = ['one', 'two', 'three', 'four'] # list of strings\n",
        "\n",
        "lst2 = [1, 2, 3, 4] #list of integers\n",
        "\n",
        "lst3 = [[1, 2], [3, 4]] # list of lists\n",
        "\n",
        "lst4 = [1, 'ramu', 24, 1.24] # list of different datatypes\n",
        "\n",
        "print(lst4)"
      ],
      "metadata": {
        "colab": {
          "base_uri": "https://localhost:8080/"
        },
        "id": "q43D_m8TElsw",
        "outputId": "71006cb2-891a-4f4a-8b12-854ac7e304c1"
      },
      "execution_count": null,
      "outputs": [
        {
          "output_type": "stream",
          "name": "stdout",
          "text": [
            "[1, 'ramu', 24, 1.24]\n"
          ]
        }
      ]
    },
    {
      "cell_type": "markdown",
      "source": [
        "List Length"
      ],
      "metadata": {
        "id": "T8sXF6DeEoCv"
      }
    },
    {
      "cell_type": "code",
      "source": [
        "lst = ['one', 'two', 'three', 'four']\n",
        "\n",
        "#find length of a list\n",
        "print(len(lst))"
      ],
      "metadata": {
        "colab": {
          "base_uri": "https://localhost:8080/"
        },
        "id": "c9IvGpyqEnZc",
        "outputId": "f5230eeb-5e8f-4f2c-fd7f-1096d716553d"
      },
      "execution_count": null,
      "outputs": [
        {
          "output_type": "stream",
          "name": "stdout",
          "text": [
            "4\n"
          ]
        }
      ]
    },
    {
      "cell_type": "markdown",
      "source": [
        "List Append"
      ],
      "metadata": {
        "id": "06N7B878EvHx"
      }
    },
    {
      "cell_type": "code",
      "source": [
        "lst = ['one', 'two', 'three', 'four']\n",
        "\n",
        "lst.append('five') # append will add the item at the end\n",
        "\n",
        "print(lst)"
      ],
      "metadata": {
        "colab": {
          "base_uri": "https://localhost:8080/"
        },
        "id": "7nloZBP-EtBk",
        "outputId": "47f255df-e33a-45e3-9134-81988b64e8a7"
      },
      "execution_count": null,
      "outputs": [
        {
          "output_type": "stream",
          "name": "stdout",
          "text": [
            "['one', 'two', 'three', 'four', 'five']\n"
          ]
        }
      ]
    },
    {
      "cell_type": "markdown",
      "source": [
        "List Insert"
      ],
      "metadata": {
        "id": "FChxS4vSExn4"
      }
    },
    {
      "cell_type": "code",
      "source": [
        "#syntax: lst.insert(x, y) \n",
        "\n",
        "lst = ['one', 'two', 'four']\n",
        "\n",
        "lst.insert(2, \"three\") # will add element y at location x\n",
        "\n",
        "print(lst)"
      ],
      "metadata": {
        "colab": {
          "base_uri": "https://localhost:8080/"
        },
        "id": "WrKRfccPExLP",
        "outputId": "9a9db3f4-3094-4876-e457-6f3131b10ee0"
      },
      "execution_count": null,
      "outputs": [
        {
          "output_type": "stream",
          "name": "stdout",
          "text": [
            "['one', 'two', 'three', 'four']\n"
          ]
        }
      ]
    },
    {
      "cell_type": "markdown",
      "source": [
        "List Remove"
      ],
      "metadata": {
        "id": "zBuYMLWvE1sc"
      }
    },
    {
      "cell_type": "code",
      "source": [
        "#syntax: lst.remove(x) \n",
        "\n",
        "lst = ['one', 'two', 'three', 'four', 'two']\n",
        "\n",
        "lst.remove('two') #it will remove first occurence of 'two' in a given list\n",
        "\n",
        "print(lst)"
      ],
      "metadata": {
        "colab": {
          "base_uri": "https://localhost:8080/"
        },
        "id": "Jq8iM5BJE1CW",
        "outputId": "f90c209d-341e-4df5-e50e-d0fb7208f705"
      },
      "execution_count": null,
      "outputs": [
        {
          "output_type": "stream",
          "name": "stdout",
          "text": [
            "['one', 'three', 'four', 'two']\n"
          ]
        }
      ]
    },
    {
      "cell_type": "markdown",
      "source": [
        "List Append & Extend"
      ],
      "metadata": {
        "id": "eAKYpM1mE7pt"
      }
    },
    {
      "cell_type": "code",
      "source": [
        "lst = ['one', 'two', 'three', 'four']\n",
        "\n",
        "lst2 = ['five', 'six']\n",
        "\n",
        "#append \n",
        "lst.append(lst2)\n",
        "\n",
        "print(lst)"
      ],
      "metadata": {
        "colab": {
          "base_uri": "https://localhost:8080/"
        },
        "id": "mDHr6UYLE5M_",
        "outputId": "18ffd3b6-204a-46a6-c5a1-f63f63a693d0"
      },
      "execution_count": null,
      "outputs": [
        {
          "output_type": "stream",
          "name": "stdout",
          "text": [
            "['one', 'two', 'three', 'four', ['five', 'six']]\n"
          ]
        }
      ]
    },
    {
      "cell_type": "code",
      "source": [
        "lst = ['one', 'two', 'three', 'four']\n",
        "\n",
        "lst2 = ['five', 'six']\n",
        "\n",
        "#extend will join the list with list1\n",
        "\n",
        "lst.extend(lst2)\n",
        "\n",
        "print(lst)"
      ],
      "metadata": {
        "colab": {
          "base_uri": "https://localhost:8080/"
        },
        "id": "QCHvUixKFBi0",
        "outputId": "e0be71d1-b152-4c4a-c7e4-29c0934da8ce"
      },
      "execution_count": null,
      "outputs": [
        {
          "output_type": "stream",
          "name": "stdout",
          "text": [
            "['one', 'two', 'three', 'four', 'five', 'six']\n"
          ]
        }
      ]
    },
    {
      "cell_type": "markdown",
      "source": [
        "List Delete"
      ],
      "metadata": {
        "id": "6wgnoC4sFA0S"
      }
    },
    {
      "cell_type": "code",
      "source": [
        "#del to remove item based on index position\n",
        "\n",
        "lst = ['one', 'two', 'three', 'four', 'five']\n",
        "\n",
        "del lst[1]\n",
        "print(lst)\n",
        "\n",
        "#or we can use pop() method\n",
        "a = lst.pop(1)\n",
        "print(a)\n",
        "\n",
        "print(lst)"
      ],
      "metadata": {
        "colab": {
          "base_uri": "https://localhost:8080/"
        },
        "id": "Ir8mYqhCE-RY",
        "outputId": "2ca947dd-dff9-4060-f131-871af066e6ab"
      },
      "execution_count": null,
      "outputs": [
        {
          "output_type": "stream",
          "name": "stdout",
          "text": [
            "['one', 'three', 'four', 'five']\n",
            "three\n",
            "['one', 'four', 'five']\n"
          ]
        }
      ]
    },
    {
      "cell_type": "code",
      "source": [
        "lst = ['one', 'two', 'three', 'four']\n",
        "\n",
        "#remove an item from list\n",
        "lst.remove('three')\n",
        "\n",
        "print(lst)"
      ],
      "metadata": {
        "colab": {
          "base_uri": "https://localhost:8080/"
        },
        "id": "XL97SECgFJTr",
        "outputId": "e13f3a0e-d0ed-427c-ce9c-218cdaa7c95e"
      },
      "execution_count": null,
      "outputs": [
        {
          "output_type": "stream",
          "name": "stdout",
          "text": [
            "['one', 'two', 'four']\n"
          ]
        }
      ]
    },
    {
      "cell_type": "markdown",
      "source": [
        "List realted keywords in Python"
      ],
      "metadata": {
        "id": "B9ZDXh5vFOb9"
      }
    },
    {
      "cell_type": "code",
      "source": [
        "#keyword 'in' is used to test if an item is in a list\n",
        "lst = ['one', 'two', 'three', 'four']\n",
        "\n",
        "if 'two' in lst:\n",
        "    print('AI')\n",
        "\n",
        "#keyword 'not' can combined with 'in'\n",
        "if 'six' not in lst:\n",
        "    print('ML')"
      ],
      "metadata": {
        "colab": {
          "base_uri": "https://localhost:8080/"
        },
        "id": "wwCr-bEWFMce",
        "outputId": "297a231d-c7f9-4b7c-aaf8-7daffe54b620"
      },
      "execution_count": null,
      "outputs": [
        {
          "output_type": "stream",
          "name": "stdout",
          "text": [
            "AI\n",
            "ML\n"
          ]
        }
      ]
    },
    {
      "cell_type": "markdown",
      "source": [
        "List Reverse"
      ],
      "metadata": {
        "id": "NsK8TwpqFRMU"
      }
    },
    {
      "cell_type": "code",
      "source": [
        "#reverse is reverses the entire list\n",
        "\n",
        "lst = ['one', 'two', 'three', 'four']\n",
        "\n",
        "lst.reverse()\n",
        "\n",
        "print(lst)"
      ],
      "metadata": {
        "colab": {
          "base_uri": "https://localhost:8080/"
        },
        "id": "tRQMkQcnFQhJ",
        "outputId": "8e90e470-c5a3-45f3-a75d-5cd487482967"
      },
      "execution_count": null,
      "outputs": [
        {
          "output_type": "stream",
          "name": "stdout",
          "text": [
            "['four', 'three', 'two', 'one']\n"
          ]
        }
      ]
    },
    {
      "cell_type": "markdown",
      "source": [
        "List Sorting\n",
        "The easiest way to sort a List is with the sorted(list) function.\n",
        "\n",
        "That takes a list and returns a new list with those elements in sorted order.\n",
        "\n",
        "The original list is not changed.\n",
        "\n",
        "The sorted() optional argument reverse=True, e.g. sorted(list, reverse=True), makes it sort backwards."
      ],
      "metadata": {
        "id": "fdCDh6B-FVPZ"
      }
    },
    {
      "cell_type": "code",
      "source": [
        "#create a list with numbers\n",
        "numbers = [3, 1, 6, 2, 8]\n",
        "\n",
        "sorted_lst = sorted(numbers)\n",
        "\n",
        "\n",
        "print(\"Sorted list :\", sorted_lst)\n",
        "\n",
        "#original list remain unchanged\n",
        "print(\"Original list: \", numbers)"
      ],
      "metadata": {
        "colab": {
          "base_uri": "https://localhost:8080/"
        },
        "id": "oNKlWZjzFUrP",
        "outputId": "904b063c-57f7-4e12-ea35-edc553e01171"
      },
      "execution_count": null,
      "outputs": [
        {
          "output_type": "stream",
          "name": "stdout",
          "text": [
            "Sorted list : [1, 2, 3, 6, 8]\n",
            "Original list:  [3, 1, 6, 2, 8]\n"
          ]
        }
      ]
    },
    {
      "cell_type": "code",
      "source": [
        "#print a list in reverse sorted order\n",
        "print(\"Reverse sorted list :\", sorted(numbers, reverse=True))\n",
        "\n",
        "#orginal list remain unchanged\n",
        "print(\"Original list :\",  numbers)"
      ],
      "metadata": {
        "colab": {
          "base_uri": "https://localhost:8080/"
        },
        "id": "Pd3D3IPcFaja",
        "outputId": "c660d5c7-c787-4f6d-9c40-78d5fb4d0bb6"
      },
      "execution_count": null,
      "outputs": [
        {
          "output_type": "stream",
          "name": "stdout",
          "text": [
            "Reverse sorted list : [8, 6, 3, 2, 1]\n",
            "Original list : [3, 1, 6, 2, 8]\n"
          ]
        }
      ]
    },
    {
      "cell_type": "code",
      "source": [
        "lst = [1, 20, 5, 5, 4.2]\n",
        "\n",
        "#sort the list and stored in itself\n",
        "lst.sort()\n",
        "\n",
        "# add element 'a' to the list to show an error\n",
        "\n",
        "print(\"Sorted list: \", lst)"
      ],
      "metadata": {
        "colab": {
          "base_uri": "https://localhost:8080/"
        },
        "id": "LZ2pro-5GEmq",
        "outputId": "a88f5957-cfd4-4cc5-b70d-2ce819cb0413"
      },
      "execution_count": null,
      "outputs": [
        {
          "output_type": "stream",
          "name": "stdout",
          "text": [
            "Sorted list:  [1, 4.2, 5, 5, 20]\n"
          ]
        }
      ]
    },
    {
      "cell_type": "code",
      "source": [
        "lst = [1, 20, 'b', 5, 'a']\n",
        "print(lst.sort()) # sort list with element of different datatypes."
      ],
      "metadata": {
        "colab": {
          "base_uri": "https://localhost:8080/",
          "height": 184
        },
        "id": "T-QKtCHvGGkb",
        "outputId": "3bde3a77-1afb-42a2-c3f3-bc72ad6d4450"
      },
      "execution_count": null,
      "outputs": [
        {
          "output_type": "error",
          "ename": "TypeError",
          "evalue": "ignored",
          "traceback": [
            "\u001b[0;31m---------------------------------------------------------------------------\u001b[0m",
            "\u001b[0;31mTypeError\u001b[0m                                 Traceback (most recent call last)",
            "\u001b[0;32m<ipython-input-117-0354af416f5c>\u001b[0m in \u001b[0;36m<module>\u001b[0;34m()\u001b[0m\n\u001b[1;32m      1\u001b[0m \u001b[0mlst\u001b[0m \u001b[0;34m=\u001b[0m \u001b[0;34m[\u001b[0m\u001b[0;36m1\u001b[0m\u001b[0;34m,\u001b[0m \u001b[0;36m20\u001b[0m\u001b[0;34m,\u001b[0m \u001b[0;34m'b'\u001b[0m\u001b[0;34m,\u001b[0m \u001b[0;36m5\u001b[0m\u001b[0;34m,\u001b[0m \u001b[0;34m'a'\u001b[0m\u001b[0;34m]\u001b[0m\u001b[0;34m\u001b[0m\u001b[0;34m\u001b[0m\u001b[0m\n\u001b[0;32m----> 2\u001b[0;31m \u001b[0mprint\u001b[0m\u001b[0;34m(\u001b[0m\u001b[0mlst\u001b[0m\u001b[0;34m.\u001b[0m\u001b[0msort\u001b[0m\u001b[0;34m(\u001b[0m\u001b[0;34m)\u001b[0m\u001b[0;34m)\u001b[0m \u001b[0;31m# sort list with element of different datatypes.\u001b[0m\u001b[0;34m\u001b[0m\u001b[0;34m\u001b[0m\u001b[0m\n\u001b[0m",
            "\u001b[0;31mTypeError\u001b[0m: '<' not supported between instances of 'str' and 'int'"
          ]
        }
      ]
    },
    {
      "cell_type": "markdown",
      "source": [
        "List Having Multiple References"
      ],
      "metadata": {
        "id": "U6VGN-ZDGLRZ"
      }
    },
    {
      "cell_type": "code",
      "source": [
        "lst = [1, 2, 3, 4, 5]\n",
        "abc = lst\n",
        "abc.append(6)\n",
        "\n",
        "#print original list\n",
        "print(\"Original list: \", lst)"
      ],
      "metadata": {
        "colab": {
          "base_uri": "https://localhost:8080/"
        },
        "id": "bhZphOOxGOch",
        "outputId": "ed8cd282-9c4f-4b44-9e51-d3c14307fe3c"
      },
      "execution_count": null,
      "outputs": [
        {
          "output_type": "stream",
          "name": "stdout",
          "text": [
            "Original list:  [1, 2, 3, 4, 5, 6]\n"
          ]
        }
      ]
    },
    {
      "cell_type": "markdown",
      "source": [
        "String Split to create a list"
      ],
      "metadata": {
        "id": "Hbnb05WsGdwh"
      }
    },
    {
      "cell_type": "code",
      "source": [
        "#let's take a string\n",
        "\n",
        "s = \"one,two,three,four,five\"\n",
        "slst = s.split(',')\n",
        "print(slst)"
      ],
      "metadata": {
        "colab": {
          "base_uri": "https://localhost:8080/"
        },
        "id": "rjjysE23GP2l",
        "outputId": "7e37796f-7413-45b0-cde5-a1765d295477"
      },
      "execution_count": null,
      "outputs": [
        {
          "output_type": "stream",
          "name": "stdout",
          "text": [
            "['one', 'two', 'three', 'four', 'five']\n"
          ]
        }
      ]
    },
    {
      "cell_type": "code",
      "source": [
        "s = \"This is applied AI Course\"\n",
        "split_lst = s.split() # default split is white-character: space or tab\n",
        "print(split_lst)"
      ],
      "metadata": {
        "colab": {
          "base_uri": "https://localhost:8080/"
        },
        "id": "94C2dNWaGgAb",
        "outputId": "311d41d1-2faf-411b-e2a0-d4184a19dce1"
      },
      "execution_count": null,
      "outputs": [
        {
          "output_type": "stream",
          "name": "stdout",
          "text": [
            "['This', 'is', 'applied', 'AI', 'Course']\n"
          ]
        }
      ]
    },
    {
      "cell_type": "markdown",
      "source": [
        "List Indexing\n",
        "Each item in the list has an assigned index value starting from 0.\n",
        "\n",
        "Accessing elements in a list is called indexing."
      ],
      "metadata": {
        "id": "l1cTHf3wGkKZ"
      }
    },
    {
      "cell_type": "code",
      "source": [
        "lst = [1, 2, 3, 4]\n",
        "print(lst[1]) #print second element\n",
        "\n",
        "#print last element using negative index\n",
        "print(lst[-2])"
      ],
      "metadata": {
        "colab": {
          "base_uri": "https://localhost:8080/"
        },
        "id": "a7C49FDjGiN0",
        "outputId": "be662d37-2c9d-43ac-ffac-a8d85e19adbe"
      },
      "execution_count": null,
      "outputs": [
        {
          "output_type": "stream",
          "name": "stdout",
          "text": [
            "2\n",
            "3\n"
          ]
        }
      ]
    },
    {
      "cell_type": "markdown",
      "source": [
        "List Slicing\n",
        "Accessing parts of segments is called slicing.\n",
        "\n",
        "The key point to remember is that the :end value represents the first value that is not in the selected slice."
      ],
      "metadata": {
        "id": "zj13e6CdGows"
      }
    },
    {
      "cell_type": "code",
      "source": [
        "numbers = [10, 20, 30, 40, 50,60,70,80]\n",
        "\n",
        "#print all numbers\n",
        "print(numbers[:]) \n",
        "\n",
        "#print from index 0 to index 3\n",
        "print(numbers[0:4])"
      ],
      "metadata": {
        "colab": {
          "base_uri": "https://localhost:8080/"
        },
        "id": "r1h-YNfGGmhc",
        "outputId": "f08ad697-5824-4e6d-e4c7-f133f7e60f37"
      },
      "execution_count": null,
      "outputs": [
        {
          "output_type": "stream",
          "name": "stdout",
          "text": [
            "[10, 20, 30, 40, 50, 60, 70, 80]\n",
            "[10, 20, 30, 40]\n"
          ]
        }
      ]
    },
    {
      "cell_type": "code",
      "source": [
        "print (numbers)\n",
        "#print alternate elements in a list\n",
        "print(numbers[::2])\n",
        "\n",
        "\n",
        "#print elemnts start from 0 through rest of the list\n",
        "print(numbers[2::2])"
      ],
      "metadata": {
        "colab": {
          "base_uri": "https://localhost:8080/"
        },
        "id": "QIHE3EKOGrFV",
        "outputId": "753b4035-14d0-48f8-cbaa-463cc279633f"
      },
      "execution_count": null,
      "outputs": [
        {
          "output_type": "stream",
          "name": "stdout",
          "text": [
            "[10, 20, 30, 40, 50, 60, 70, 80]\n",
            "[10, 30, 50, 70]\n",
            "[30, 50, 70]\n"
          ]
        }
      ]
    },
    {
      "cell_type": "markdown",
      "source": [
        "List extend using \"+\""
      ],
      "metadata": {
        "id": "_75pdzGIGvO5"
      }
    },
    {
      "cell_type": "code",
      "source": [
        "lst1 = [1, 2, 3, 4]\n",
        "lst2 = ['varma', 'naveen', 'murali', 'brahma']\n",
        "new_lst = lst1 + lst2\n",
        "\n",
        "print(new_lst)"
      ],
      "metadata": {
        "colab": {
          "base_uri": "https://localhost:8080/"
        },
        "id": "YeT7t_EMGyeq",
        "outputId": "f2bb8d42-c031-4cfa-d221-8fa0709614a8"
      },
      "execution_count": null,
      "outputs": [
        {
          "output_type": "stream",
          "name": "stdout",
          "text": [
            "[1, 2, 3, 4, 'varma', 'naveen', 'murali', 'brahma']\n"
          ]
        }
      ]
    },
    {
      "cell_type": "markdown",
      "source": [
        "List Count"
      ],
      "metadata": {
        "id": "FeNVWlAbG2yQ"
      }
    },
    {
      "cell_type": "code",
      "source": [
        "numbers = [1, 2, 3, 1, 3, 4, 2, 5]\n",
        "\n",
        "#frequency of 1 in a list\n",
        "print(numbers.count(1))\n",
        "\n",
        "#frequency of 3 in a list\n",
        "print(numbers.count(3))"
      ],
      "metadata": {
        "colab": {
          "base_uri": "https://localhost:8080/"
        },
        "id": "P2_WAJByG0NV",
        "outputId": "42ef570a-9c4b-456b-b128-b1fba721335f"
      },
      "execution_count": null,
      "outputs": [
        {
          "output_type": "stream",
          "name": "stdout",
          "text": [
            "2\n",
            "2\n"
          ]
        }
      ]
    },
    {
      "cell_type": "markdown",
      "source": [
        "List Looping"
      ],
      "metadata": {
        "id": "hwIQwDhdG6XG"
      }
    },
    {
      "cell_type": "code",
      "source": [
        "#loop through a list\n",
        "\n",
        "lst = ['one', 'two', 'three', 'four']\n",
        "\n",
        "for ele in lst:\n",
        "    print(ele)"
      ],
      "metadata": {
        "colab": {
          "base_uri": "https://localhost:8080/"
        },
        "id": "_Q-d6RDfG4uH",
        "outputId": "e8e14320-4949-4228-88c6-c6806c5d2e88"
      },
      "execution_count": null,
      "outputs": [
        {
          "output_type": "stream",
          "name": "stdout",
          "text": [
            "one\n",
            "two\n",
            "three\n",
            "four\n"
          ]
        }
      ]
    },
    {
      "cell_type": "markdown",
      "source": [
        "List Comprehensions\n",
        "List comprehensions provide a concise way to create lists.\n",
        "\n",
        "Common applications are to make new lists where each element is the result of some operations applied to each member of another sequence or iterable, or to create a subsequence of those elements that satisfy a certain condition."
      ],
      "metadata": {
        "id": "ObQtQUeQHNGE"
      }
    },
    {
      "cell_type": "code",
      "source": [
        "# without list comprehension\n",
        "squares = []\n",
        "for i in range(10):\n",
        "    squares.append(i**2)   #list append\n",
        "print(squares)"
      ],
      "metadata": {
        "colab": {
          "base_uri": "https://localhost:8080/"
        },
        "id": "skhHwNjwHLEB",
        "outputId": "6bacea6e-1813-47d4-9b61-f11d9fe93b88"
      },
      "execution_count": null,
      "outputs": [
        {
          "output_type": "stream",
          "name": "stdout",
          "text": [
            "[0, 1, 4, 9, 16, 25, 36, 49, 64, 81]\n"
          ]
        }
      ]
    },
    {
      "cell_type": "code",
      "source": [
        "#using list comprehension\n",
        "squares = [i**2 for i in range(10)]\n",
        "print(squares)"
      ],
      "metadata": {
        "colab": {
          "base_uri": "https://localhost:8080/"
        },
        "id": "U1ov5oS9HPa3",
        "outputId": "feb0ad88-a7ab-4079-e17e-358ff2628a94"
      },
      "execution_count": null,
      "outputs": [
        {
          "output_type": "stream",
          "name": "stdout",
          "text": [
            "[0, 1, 4, 9, 16, 25, 36, 49, 64, 81]\n"
          ]
        }
      ]
    },
    {
      "cell_type": "code",
      "source": [
        "[0, 1, 4, 9, 16, 25, 36, 49, 64, 81]\n",
        "#example\n",
        "\n",
        "lst = [-10, -20, 10, 20, 50]\n",
        "\n",
        "#create a new list with values doubled\n",
        "new_lst = [i*2 for i in lst]\n",
        "print(new_lst)\n",
        "\n",
        "#filter the list to exclude negative numbers\n",
        "new_lst = [i for i in lst if i >= 0]\n",
        "print(new_lst)\n",
        "\n",
        "\n",
        "#create a list of tuples like (number, square_of_number)\n",
        "new_lst = [(i, i**2) for i in range(10)]\n",
        "print(new_lst)"
      ],
      "metadata": {
        "colab": {
          "base_uri": "https://localhost:8080/"
        },
        "id": "1pX5UzNkHRCs",
        "outputId": "8ca4c0da-d0b0-4b36-f712-3ec8f030f791"
      },
      "execution_count": null,
      "outputs": [
        {
          "output_type": "stream",
          "name": "stdout",
          "text": [
            "[-20, -40, 20, 40, 100]\n",
            "[10, 20, 50]\n",
            "[(0, 0), (1, 1), (2, 4), (3, 9), (4, 16), (5, 25), (6, 36), (7, 49), (8, 64), (9, 81)]\n"
          ]
        }
      ]
    },
    {
      "cell_type": "markdown",
      "source": [
        "Nested List Comprehensions"
      ],
      "metadata": {
        "id": "sHr0eXOtHXFV"
      }
    },
    {
      "cell_type": "code",
      "source": [
        "#let's suppose we have a matrix\n",
        "\n",
        "matrix = [\n",
        "    [1, 2, 3, 4],\n",
        "    [5, 6, 7, 8],\n",
        "    [9, 10, 11, 12]\n",
        "]\n",
        "\n",
        "#transpose of a matrix without list comprehension\n",
        "transposed = []\n",
        "for i in range(4):\n",
        "    lst = []\n",
        "    for row in matrix:\n",
        "        lst.append(row[i])\n",
        "    transposed.append(lst)\n",
        "\n",
        "print(transposed)"
      ],
      "metadata": {
        "colab": {
          "base_uri": "https://localhost:8080/"
        },
        "id": "oGcuANRTHVNj",
        "outputId": "641215bc-42ff-43e2-f86d-9ca06c57b990"
      },
      "execution_count": null,
      "outputs": [
        {
          "output_type": "stream",
          "name": "stdout",
          "text": [
            "[[1, 5, 9], [2, 6, 10], [3, 7, 11], [4, 8, 12]]\n"
          ]
        }
      ]
    },
    {
      "cell_type": "code",
      "source": [
        "#with list comprehension\n",
        "transposed = [[row[i] for row in matrix] for i in range(4)]\n",
        "print(transposed)"
      ],
      "metadata": {
        "colab": {
          "base_uri": "https://localhost:8080/"
        },
        "id": "7cfT7HSDHZA_",
        "outputId": "1ea6fcbd-af54-4ff6-9e04-a48148cd28bd"
      },
      "execution_count": null,
      "outputs": [
        {
          "output_type": "stream",
          "name": "stdout",
          "text": [
            "[[1, 5, 9], [2, 6, 10], [3, 7, 11], [4, 8, 12]]\n"
          ]
        }
      ]
    },
    {
      "cell_type": "markdown",
      "source": [
        "if else"
      ],
      "metadata": {
        "id": "IEeuwxX6Hopz"
      }
    },
    {
      "cell_type": "code",
      "source": [
        "num = 10.5\n",
        "\n",
        "if num >= 0:\n",
        "    if num == 0:\n",
        "        print(\"Zero\")\n",
        "    else:\n",
        "        print(\"Positive number\")\n",
        "else:\n",
        "    print(\"Negative Number\")"
      ],
      "metadata": {
        "id": "_AQzvk6BHa6g"
      },
      "execution_count": null,
      "outputs": []
    },
    {
      "cell_type": "markdown",
      "source": [
        "Tuples\n",
        "-> A tuple is similar to list\n",
        "\n",
        "-> The diffence between the two is that we can't change the elements of tuple once it is assigned whereas in the list, elements can be changed\n",
        "\n",
        "Tuple creation"
      ],
      "metadata": {
        "id": "1a7aKzTwHq_s"
      }
    },
    {
      "cell_type": "code",
      "source": [
        "#empty tuple\n",
        "t = ()\n",
        "\n",
        "#tuple having integers\n",
        "t = (1, 2, 3)\n",
        "print(t)\n",
        "\n",
        "#tuple with mixed datatypes\n",
        "t = (1, 'raju', 28, 'abc')\n",
        "print(t)\n",
        "\n",
        "#nested tuple\n",
        "t = (1, (2, 3, 4), [1, 'raju', 28, 'abc'])\n",
        "print(t)\n"
      ],
      "metadata": {
        "colab": {
          "base_uri": "https://localhost:8080/"
        },
        "id": "BgpCJi1_HqXV",
        "outputId": "e598cffe-a4b2-4b91-9ccc-4a8d017d0edc"
      },
      "execution_count": null,
      "outputs": [
        {
          "output_type": "stream",
          "name": "stdout",
          "text": [
            "(1, 2, 3)\n",
            "(1, 'raju', 28, 'abc')\n",
            "(1, (2, 3, 4), [1, 'raju', 28, 'abc'])\n"
          ]
        }
      ]
    },
    {
      "cell_type": "code",
      "source": [
        "#only parenthesis is not enough\n",
        "t = ('satish')\n",
        "type(t)"
      ],
      "metadata": {
        "colab": {
          "base_uri": "https://localhost:8080/"
        },
        "id": "skq-hkR-IsoV",
        "outputId": "663512c1-3d04-4c1d-f8bc-67da500a6c63"
      },
      "execution_count": null,
      "outputs": [
        {
          "output_type": "execute_result",
          "data": {
            "text/plain": [
              "str"
            ]
          },
          "metadata": {},
          "execution_count": 136
        }
      ]
    },
    {
      "cell_type": "code",
      "source": [
        "#need a comma at the end\n",
        "t = ('satish',)\n",
        "type(t)"
      ],
      "metadata": {
        "colab": {
          "base_uri": "https://localhost:8080/"
        },
        "id": "0CZnX-MqIvo8",
        "outputId": "f585abfd-e9d2-478a-cd57-e45d4dee3f8a"
      },
      "execution_count": null,
      "outputs": [
        {
          "output_type": "execute_result",
          "data": {
            "text/plain": [
              "tuple"
            ]
          },
          "metadata": {},
          "execution_count": 137
        }
      ]
    },
    {
      "cell_type": "code",
      "source": [
        "#parenthesis is optional\n",
        "t = \"satish\", \n",
        "print(type(t))\n",
        "\n",
        "print(t)"
      ],
      "metadata": {
        "colab": {
          "base_uri": "https://localhost:8080/"
        },
        "id": "2KrrgyygIyC4",
        "outputId": "b454146f-696c-46ff-ec9f-cb881a682323"
      },
      "execution_count": null,
      "outputs": [
        {
          "output_type": "stream",
          "name": "stdout",
          "text": [
            "<class 'tuple'>\n",
            "('satish',)\n"
          ]
        }
      ]
    },
    {
      "cell_type": "markdown",
      "source": [
        "Accessing Elements in Tuple\n"
      ],
      "metadata": {
        "id": "iAIbZUdeI1n3"
      }
    },
    {
      "cell_type": "code",
      "source": [
        "t = ('satish', 'murali', 'naveen', 'srinu', 'brahma')\n",
        "\n",
        "print(t[1])"
      ],
      "metadata": {
        "colab": {
          "base_uri": "https://localhost:8080/"
        },
        "id": "HbacnjIlIzm3",
        "outputId": "415c520d-c183-4077-ee30-5f3acc873d73"
      },
      "execution_count": null,
      "outputs": [
        {
          "output_type": "stream",
          "name": "stdout",
          "text": [
            "murali\n"
          ]
        }
      ]
    },
    {
      "cell_type": "code",
      "source": [
        "#negative index\n",
        "print(t[-1]) #print last element in a tuple"
      ],
      "metadata": {
        "colab": {
          "base_uri": "https://localhost:8080/"
        },
        "id": "CmrU21HWI3pa",
        "outputId": "48071e8b-5735-4d34-b21f-981c7898d720"
      },
      "execution_count": null,
      "outputs": [
        {
          "output_type": "stream",
          "name": "stdout",
          "text": [
            "brahma\n"
          ]
        }
      ]
    },
    {
      "cell_type": "code",
      "source": [
        "#nested tuple\n",
        "t = ('ABC', ('satish', 'naveen', 'srinu'))\n",
        "\n",
        "print(t[1])"
      ],
      "metadata": {
        "colab": {
          "base_uri": "https://localhost:8080/"
        },
        "id": "lN7CLhjII5ME",
        "outputId": "1cdfacc0-1cdc-4926-f20d-15073c0a00d9"
      },
      "execution_count": null,
      "outputs": [
        {
          "output_type": "stream",
          "name": "stdout",
          "text": [
            "('satish', 'naveen', 'srinu')\n"
          ]
        }
      ]
    },
    {
      "cell_type": "code",
      "source": [
        "print(t[1][2])"
      ],
      "metadata": {
        "colab": {
          "base_uri": "https://localhost:8080/"
        },
        "id": "_peyRuQsI6cu",
        "outputId": "928aa183-59a6-48a9-8734-7c1e153d34d6"
      },
      "execution_count": null,
      "outputs": [
        {
          "output_type": "stream",
          "name": "stdout",
          "text": [
            "srinu\n"
          ]
        }
      ]
    },
    {
      "cell_type": "code",
      "source": [
        "#Slicing\n",
        "t = (1, 2, 3, 4, 5, 6)\n",
        "\n",
        "print(t[1:4])\n",
        "\n",
        "#print elements from starting to 2nd last elements\n",
        "print(t[:-2])\n",
        "\n",
        "#print elements from starting to end\n",
        "print(t[:])"
      ],
      "metadata": {
        "colab": {
          "base_uri": "https://localhost:8080/"
        },
        "id": "OhZNkuZTI8uS",
        "outputId": "484219c6-0380-4f60-903d-a94c1bd7284b"
      },
      "execution_count": null,
      "outputs": [
        {
          "output_type": "stream",
          "name": "stdout",
          "text": [
            "(2, 3, 4)\n",
            "(1, 2, 3, 4)\n",
            "(1, 2, 3, 4, 5, 6)\n"
          ]
        }
      ]
    },
    {
      "cell_type": "markdown",
      "source": [
        "Changing a Tuple\n",
        "unlike lists, tuples are immutable\n",
        "This means that elements of a tuple cannot be changed once it has been assigned. But, if the element is itself a mutable datatype like list, its nested items can be changed"
      ],
      "metadata": {
        "id": "PRJagIPgJAlP"
      }
    },
    {
      "cell_type": "code",
      "source": [
        "#creating tuple\n",
        "t = (1, 2, 3, 4, [5, 6, 7])\n",
        "\n",
        "t[2] = 'x' #will get TypeError"
      ],
      "metadata": {
        "colab": {
          "base_uri": "https://localhost:8080/",
          "height": 201
        },
        "id": "BJAFwXaHI-yk",
        "outputId": "452e4fb2-0303-4ec2-9a87-da8feaed760d"
      },
      "execution_count": null,
      "outputs": [
        {
          "output_type": "error",
          "ename": "TypeError",
          "evalue": "ignored",
          "traceback": [
            "\u001b[0;31m---------------------------------------------------------------------------\u001b[0m",
            "\u001b[0;31mTypeError\u001b[0m                                 Traceback (most recent call last)",
            "\u001b[0;32m<ipython-input-144-1fb87c1270c4>\u001b[0m in \u001b[0;36m<module>\u001b[0;34m()\u001b[0m\n\u001b[1;32m      2\u001b[0m \u001b[0mt\u001b[0m \u001b[0;34m=\u001b[0m \u001b[0;34m(\u001b[0m\u001b[0;36m1\u001b[0m\u001b[0;34m,\u001b[0m \u001b[0;36m2\u001b[0m\u001b[0;34m,\u001b[0m \u001b[0;36m3\u001b[0m\u001b[0;34m,\u001b[0m \u001b[0;36m4\u001b[0m\u001b[0;34m,\u001b[0m \u001b[0;34m[\u001b[0m\u001b[0;36m5\u001b[0m\u001b[0;34m,\u001b[0m \u001b[0;36m6\u001b[0m\u001b[0;34m,\u001b[0m \u001b[0;36m7\u001b[0m\u001b[0;34m]\u001b[0m\u001b[0;34m)\u001b[0m\u001b[0;34m\u001b[0m\u001b[0;34m\u001b[0m\u001b[0m\n\u001b[1;32m      3\u001b[0m \u001b[0;34m\u001b[0m\u001b[0m\n\u001b[0;32m----> 4\u001b[0;31m \u001b[0mt\u001b[0m\u001b[0;34m[\u001b[0m\u001b[0;36m2\u001b[0m\u001b[0;34m]\u001b[0m \u001b[0;34m=\u001b[0m \u001b[0;34m'x'\u001b[0m \u001b[0;31m#will get TypeError\u001b[0m\u001b[0;34m\u001b[0m\u001b[0;34m\u001b[0m\u001b[0m\n\u001b[0m",
            "\u001b[0;31mTypeError\u001b[0m: 'tuple' object does not support item assignment"
          ]
        }
      ]
    },
    {
      "cell_type": "code",
      "source": [
        "t[4][1] = 'satish'\n",
        "print(t)"
      ],
      "metadata": {
        "colab": {
          "base_uri": "https://localhost:8080/"
        },
        "id": "swqZoxdnJCgr",
        "outputId": "b84ad5b3-d012-4f2a-a19a-8070a69d23f0"
      },
      "execution_count": null,
      "outputs": [
        {
          "output_type": "stream",
          "name": "stdout",
          "text": [
            "(1, 2, 3, 4, [5, 'satish', 7])\n"
          ]
        }
      ]
    },
    {
      "cell_type": "code",
      "source": [
        "#concatinating tuples\n",
        "\n",
        "t = (1, 2, 3) + (4, 5, 6)\n",
        "print(t)"
      ],
      "metadata": {
        "colab": {
          "base_uri": "https://localhost:8080/"
        },
        "id": "m21FHIghJEG9",
        "outputId": "9bcbd923-f927-4316-b9ec-8c9512f1de88"
      },
      "execution_count": null,
      "outputs": [
        {
          "output_type": "stream",
          "name": "stdout",
          "text": [
            "(1, 2, 3, 4, 5, 6)\n"
          ]
        }
      ]
    },
    {
      "cell_type": "code",
      "source": [
        "#repeat the elements in a tuple for a given number of times using the * operator.\n",
        "t = (('satish', ) * 4)\n",
        "print(t)"
      ],
      "metadata": {
        "colab": {
          "base_uri": "https://localhost:8080/"
        },
        "id": "sZoc8-ZFJF2m",
        "outputId": "d942e612-eae9-4550-deee-b3ba888b3f7c"
      },
      "execution_count": null,
      "outputs": [
        {
          "output_type": "stream",
          "name": "stdout",
          "text": [
            "('satish', 'satish', 'satish', 'satish')\n"
          ]
        }
      ]
    },
    {
      "cell_type": "markdown",
      "source": [
        "Tuple Deletion"
      ],
      "metadata": {
        "id": "sjAZPc12hPom"
      }
    },
    {
      "cell_type": "code",
      "source": [
        "#we cannot change the elements in a tuple. \n",
        "# That also means we cannot delete or remove items from a tuple.\n",
        "\n",
        "#delete entire tuple using del keyword\n",
        "t = (1, 2, 3, 4, 5, 6)\n",
        "\n",
        "#delete entire tuple\n",
        "del t"
      ],
      "metadata": {
        "id": "D70mbZRUJIJm"
      },
      "execution_count": null,
      "outputs": []
    },
    {
      "cell_type": "markdown",
      "source": [
        "tuple count"
      ],
      "metadata": {
        "id": "1HUi_Q7qhikB"
      }
    },
    {
      "cell_type": "code",
      "source": [
        "t = (1, 2, 3, 1, 3, 3, 4, 1)\n",
        "\n",
        "#get the frequency of particular element appears in a tuple\n",
        "t.count(1)"
      ],
      "metadata": {
        "colab": {
          "base_uri": "https://localhost:8080/"
        },
        "id": "DS_m8UM4hSaQ",
        "outputId": "6ddfc796-67bd-403c-c3c1-a91674075c6d"
      },
      "execution_count": null,
      "outputs": [
        {
          "output_type": "execute_result",
          "data": {
            "text/plain": [
              "3"
            ]
          },
          "metadata": {},
          "execution_count": 3
        }
      ]
    },
    {
      "cell_type": "markdown",
      "source": [
        "Tuple Index"
      ],
      "metadata": {
        "id": "T6OmpGOYho1U"
      }
    },
    {
      "cell_type": "code",
      "source": [
        "t = (1, 2, 3, 1, 3, 3, 4, 1)\n",
        "\n",
        "print(t.index(3)) #return index of the first element is equal to 3\n",
        "\n",
        "#print index of the 1"
      ],
      "metadata": {
        "colab": {
          "base_uri": "https://localhost:8080/"
        },
        "id": "O_GAKnkkhrPM",
        "outputId": "002f7023-799b-4abe-bdbf-0668eacb6983"
      },
      "execution_count": null,
      "outputs": [
        {
          "output_type": "stream",
          "name": "stdout",
          "text": [
            "2\n"
          ]
        }
      ]
    },
    {
      "cell_type": "markdown",
      "source": [
        "Tuple Memebership"
      ],
      "metadata": {
        "id": "jotb-qzJhwZ_"
      }
    },
    {
      "cell_type": "code",
      "source": [
        "#test if an item exists in a tuple or not, using the keyword in.\n",
        "t = (1, 2, 3, 4, 5, 6)\n",
        "\n",
        "print(1 in t)"
      ],
      "metadata": {
        "colab": {
          "base_uri": "https://localhost:8080/"
        },
        "id": "qpIil1HLhuB8",
        "outputId": "a83a304b-64fd-4da2-8bd1-fcd688217040"
      },
      "execution_count": null,
      "outputs": [
        {
          "output_type": "stream",
          "name": "stdout",
          "text": [
            "True\n"
          ]
        }
      ]
    },
    {
      "cell_type": "code",
      "source": [
        "print(7 in t)"
      ],
      "metadata": {
        "colab": {
          "base_uri": "https://localhost:8080/"
        },
        "id": "lfUo_h2YiAbu",
        "outputId": "c6140a55-8ec9-4f53-beda-cfbe34fc0a15"
      },
      "execution_count": null,
      "outputs": [
        {
          "output_type": "stream",
          "name": "stdout",
          "text": [
            "False\n"
          ]
        }
      ]
    },
    {
      "cell_type": "markdown",
      "source": [
        "Built in Functions\n",
        "Tuple Length"
      ],
      "metadata": {
        "id": "PJCitpGGh6ee"
      }
    },
    {
      "cell_type": "code",
      "source": [
        "t = (1, 2, 3, 4, 5, 6)\n",
        "print(len(t))"
      ],
      "metadata": {
        "colab": {
          "base_uri": "https://localhost:8080/"
        },
        "id": "ZIo-A7aVh4fB",
        "outputId": "53c7a079-41ca-4f70-dfcb-8b2a91bed03c"
      },
      "execution_count": null,
      "outputs": [
        {
          "output_type": "stream",
          "name": "stdout",
          "text": [
            "6\n"
          ]
        }
      ]
    },
    {
      "cell_type": "markdown",
      "source": [
        "Tuple Sort"
      ],
      "metadata": {
        "id": "Gvh_V3wGiLTc"
      }
    },
    {
      "cell_type": "code",
      "source": [
        "t = (4, 5, 1, 2, 3)\n",
        "\n",
        "new_t = sorted(t)\n",
        "print(new_t) #Take elements in the tuple and return a new sorted list \n",
        "             #(does not sort the tuple itself)."
      ],
      "metadata": {
        "colab": {
          "base_uri": "https://localhost:8080/"
        },
        "id": "gBqVnVvSiHOS",
        "outputId": "8e4364fd-aaf6-4407-fab3-6e43aa34c951"
      },
      "execution_count": null,
      "outputs": [
        {
          "output_type": "stream",
          "name": "stdout",
          "text": [
            "[1, 2, 3, 4, 5]\n"
          ]
        }
      ]
    },
    {
      "cell_type": "code",
      "source": [
        "#get the largest element in a tuple\n",
        "t = (2, 5, 1, 6, 9)\n",
        "\n",
        "print(max(t))"
      ],
      "metadata": {
        "colab": {
          "base_uri": "https://localhost:8080/"
        },
        "id": "3ZP1fYSkiOfG",
        "outputId": "b77cbb58-8b79-47af-b029-c70d5d5ede89"
      },
      "execution_count": null,
      "outputs": [
        {
          "output_type": "stream",
          "name": "stdout",
          "text": [
            "9\n"
          ]
        }
      ]
    },
    {
      "cell_type": "code",
      "source": [
        "#get the smallest element in a tuple\n",
        "print(min(t))"
      ],
      "metadata": {
        "colab": {
          "base_uri": "https://localhost:8080/"
        },
        "id": "lk627fIPiQfb",
        "outputId": "991fcf4c-5cb4-48ff-9804-c2ac43264240"
      },
      "execution_count": null,
      "outputs": [
        {
          "output_type": "stream",
          "name": "stdout",
          "text": [
            "1\n"
          ]
        }
      ]
    },
    {
      "cell_type": "code",
      "source": [
        "#get sum of elments in the tuple\n",
        "print(sum(t))"
      ],
      "metadata": {
        "colab": {
          "base_uri": "https://localhost:8080/"
        },
        "id": "DAyvkdD9iSqR",
        "outputId": "a63e06c8-0314-47d3-81ca-9368bd5c8863"
      },
      "execution_count": null,
      "outputs": [
        {
          "output_type": "stream",
          "name": "stdout",
          "text": [
            "23\n"
          ]
        }
      ]
    },
    {
      "cell_type": "markdown",
      "source": [
        "Sets\n",
        "-> A set is an unordered collection of items. Every element is unique (no duplicates).\n",
        "\n",
        "-> The set itself is mutable. We can add or remove items from it.\n",
        "\n",
        "-> Sets can be used to perform mathematical set operations like union, intersection, symmetric difference etc.\n",
        "\n",
        "Set Creation"
      ],
      "metadata": {
        "id": "txX7O9kWiYF9"
      }
    },
    {
      "cell_type": "code",
      "source": [
        "#set of integers\n",
        "s = {1, 2, 3}\n",
        "print(s)\n",
        "\n",
        "#print type of s \n",
        "print(type(s))"
      ],
      "metadata": {
        "colab": {
          "base_uri": "https://localhost:8080/"
        },
        "id": "cP26NhJEiUkv",
        "outputId": "a684a1e0-c1df-4512-eab3-331bb15afd97"
      },
      "execution_count": null,
      "outputs": [
        {
          "output_type": "stream",
          "name": "stdout",
          "text": [
            "{1, 2, 3}\n",
            "<class 'set'>\n"
          ]
        }
      ]
    },
    {
      "cell_type": "code",
      "source": [
        "#set doesn't allow duplicates. They store only one instance.\n",
        "s = {1, 2, 3, 1, 4}\n",
        "print(s)"
      ],
      "metadata": {
        "colab": {
          "base_uri": "https://localhost:8080/"
        },
        "id": "U93nyQx1ieYf",
        "outputId": "94d26988-4f92-483b-d284-ea7c520d0145"
      },
      "execution_count": null,
      "outputs": [
        {
          "output_type": "stream",
          "name": "stdout",
          "text": [
            "{1, 2, 3, 4}\n"
          ]
        }
      ]
    },
    {
      "cell_type": "code",
      "source": [
        "#we can make set from a list\n",
        "s = set([1, 2, 3, 1])\n",
        "print(s)"
      ],
      "metadata": {
        "colab": {
          "base_uri": "https://localhost:8080/"
        },
        "id": "rvRiElFoibMJ",
        "outputId": "3680e7ae-002f-4dc7-bf58-228b2ec102a4"
      },
      "execution_count": null,
      "outputs": [
        {
          "output_type": "stream",
          "name": "stdout",
          "text": [
            "{1, 2, 3}\n"
          ]
        }
      ]
    },
    {
      "cell_type": "code",
      "source": [
        "#initialize a set  with set() method\n",
        "s = set()\n",
        "\n",
        "print(type(s))"
      ],
      "metadata": {
        "colab": {
          "base_uri": "https://localhost:8080/"
        },
        "id": "6-_OOP1XijDI",
        "outputId": "66295b4a-0466-46d1-d210-21ee897efac8"
      },
      "execution_count": null,
      "outputs": [
        {
          "output_type": "stream",
          "name": "stdout",
          "text": [
            "<class 'set'>\n"
          ]
        }
      ]
    },
    {
      "cell_type": "markdown",
      "source": [
        "Add element to a Set"
      ],
      "metadata": {
        "id": "lIWBpX8mi4z3"
      }
    },
    {
      "cell_type": "code",
      "source": [
        "#we can add single element using add() method and \n",
        "#add multiple elements using update() method\n",
        "s = {1, 3}\n",
        "\n",
        "#set object doesn't support indexing\n",
        "print(s[1]) #will get TypeError"
      ],
      "metadata": {
        "colab": {
          "base_uri": "https://localhost:8080/",
          "height": 201
        },
        "id": "T4Yxq_Ueixtc",
        "outputId": "3948bb2e-5394-4cb1-f7fc-a636b6d6173a"
      },
      "execution_count": null,
      "outputs": [
        {
          "output_type": "error",
          "ename": "TypeError",
          "evalue": "ignored",
          "traceback": [
            "\u001b[0;31m---------------------------------------------------------------------------\u001b[0m",
            "\u001b[0;31mTypeError\u001b[0m                                 Traceback (most recent call last)",
            "\u001b[0;32m<ipython-input-16-22d0618a89be>\u001b[0m in \u001b[0;36m<module>\u001b[0;34m()\u001b[0m\n\u001b[1;32m      4\u001b[0m \u001b[0;34m\u001b[0m\u001b[0m\n\u001b[1;32m      5\u001b[0m \u001b[0;31m#set object doesn't support indexing\u001b[0m\u001b[0;34m\u001b[0m\u001b[0;34m\u001b[0m\u001b[0;34m\u001b[0m\u001b[0m\n\u001b[0;32m----> 6\u001b[0;31m \u001b[0mprint\u001b[0m\u001b[0;34m(\u001b[0m\u001b[0ms\u001b[0m\u001b[0;34m[\u001b[0m\u001b[0;36m1\u001b[0m\u001b[0;34m]\u001b[0m\u001b[0;34m)\u001b[0m \u001b[0;31m#will get TypeError\u001b[0m\u001b[0;34m\u001b[0m\u001b[0;34m\u001b[0m\u001b[0m\n\u001b[0m",
            "\u001b[0;31mTypeError\u001b[0m: 'set' object is not subscriptable"
          ]
        }
      ]
    },
    {
      "cell_type": "code",
      "source": [
        "#add element\n",
        "s.add(2)\n",
        "print(s)"
      ],
      "metadata": {
        "colab": {
          "base_uri": "https://localhost:8080/"
        },
        "id": "fPDZiBAhi9rA",
        "outputId": "e060a0a3-c2a8-4604-d627-e6f599e85e18"
      },
      "execution_count": null,
      "outputs": [
        {
          "output_type": "stream",
          "name": "stdout",
          "text": [
            "{1, 2, 3}\n"
          ]
        }
      ]
    },
    {
      "cell_type": "code",
      "source": [
        "#add multiple elements\n",
        "s.update([5, 6, 1])\n",
        "print(s)"
      ],
      "metadata": {
        "colab": {
          "base_uri": "https://localhost:8080/"
        },
        "id": "aBR0y5Bui_a_",
        "outputId": "64b82ef4-2901-41bd-c5e2-a081f7b43ce0"
      },
      "execution_count": null,
      "outputs": [
        {
          "output_type": "stream",
          "name": "stdout",
          "text": [
            "{1, 2, 3, 5, 6}\n"
          ]
        }
      ]
    },
    {
      "cell_type": "code",
      "source": [
        "#add list and set\n",
        "s.update([8, 9], {10, 2, 3})\n",
        "print(s)"
      ],
      "metadata": {
        "colab": {
          "base_uri": "https://localhost:8080/"
        },
        "id": "eWF0MqkfjBdi",
        "outputId": "a39634a2-a7ef-46ad-d915-131323f28ac5"
      },
      "execution_count": null,
      "outputs": [
        {
          "output_type": "stream",
          "name": "stdout",
          "text": [
            "{1, 2, 3, 5, 6, 8, 9, 10}\n"
          ]
        }
      ]
    },
    {
      "cell_type": "markdown",
      "source": [
        "Remove elements from a Set"
      ],
      "metadata": {
        "id": "ZWwkcbpVjK0X"
      }
    },
    {
      "cell_type": "code",
      "source": [
        "#A particular item can be removed from set using methods, \n",
        "#discard() and remove().\n",
        "\n",
        "s = {1, 2, 3, 5, 4}\n",
        "print(s)\n",
        "\n",
        "s.discard(4)    #4 is removed from set s\n",
        "\n",
        "print(s)"
      ],
      "metadata": {
        "colab": {
          "base_uri": "https://localhost:8080/"
        },
        "id": "Z4NZ6Qw2jDVr",
        "outputId": "59922e7d-aa2f-43f6-b921-bc16fe001ae6"
      },
      "execution_count": null,
      "outputs": [
        {
          "output_type": "stream",
          "name": "stdout",
          "text": [
            "{1, 2, 3, 4, 5}\n",
            "{1, 2, 3, 5}\n"
          ]
        }
      ]
    },
    {
      "cell_type": "code",
      "source": [
        "#remove an element \n",
        "s.remove(2)\n",
        "\n",
        "print(s)"
      ],
      "metadata": {
        "colab": {
          "base_uri": "https://localhost:8080/"
        },
        "id": "FWggbefJjOWc",
        "outputId": "e6b1bb5c-f3d8-4daa-d3c5-df495869deab"
      },
      "execution_count": null,
      "outputs": [
        {
          "output_type": "stream",
          "name": "stdout",
          "text": [
            "{1, 3, 5}\n"
          ]
        }
      ]
    },
    {
      "cell_type": "code",
      "source": [
        "#remove an element not present in a set s\n",
        "s.remove(7) # will get KeyError"
      ],
      "metadata": {
        "colab": {
          "base_uri": "https://localhost:8080/",
          "height": 184
        },
        "id": "HafPeooAjQDb",
        "outputId": "d9475b79-1fe5-49a0-d514-ed066b3c03a4"
      },
      "execution_count": null,
      "outputs": [
        {
          "output_type": "error",
          "ename": "KeyError",
          "evalue": "ignored",
          "traceback": [
            "\u001b[0;31m---------------------------------------------------------------------------\u001b[0m",
            "\u001b[0;31mKeyError\u001b[0m                                  Traceback (most recent call last)",
            "\u001b[0;32m<ipython-input-22-fcd391652dec>\u001b[0m in \u001b[0;36m<module>\u001b[0;34m()\u001b[0m\n\u001b[1;32m      1\u001b[0m \u001b[0;31m#remove an element not present in a set s\u001b[0m\u001b[0;34m\u001b[0m\u001b[0;34m\u001b[0m\u001b[0;34m\u001b[0m\u001b[0m\n\u001b[0;32m----> 2\u001b[0;31m \u001b[0ms\u001b[0m\u001b[0;34m.\u001b[0m\u001b[0mremove\u001b[0m\u001b[0;34m(\u001b[0m\u001b[0;36m7\u001b[0m\u001b[0;34m)\u001b[0m \u001b[0;31m# will get KeyError\u001b[0m\u001b[0;34m\u001b[0m\u001b[0;34m\u001b[0m\u001b[0m\n\u001b[0m",
            "\u001b[0;31mKeyError\u001b[0m: 7"
          ]
        }
      ]
    },
    {
      "cell_type": "code",
      "source": [
        "#discard an element not present in a set s\n",
        "s.discard(7)\n",
        "print(s)"
      ],
      "metadata": {
        "colab": {
          "base_uri": "https://localhost:8080/"
        },
        "id": "4M7UxtkZjSJJ",
        "outputId": "ed874c42-ea0b-4181-b245-32c157d0c655"
      },
      "execution_count": null,
      "outputs": [
        {
          "output_type": "stream",
          "name": "stdout",
          "text": [
            "{1, 3, 5}\n"
          ]
        }
      ]
    },
    {
      "cell_type": "code",
      "source": [
        "#we can remove item using pop() method\n",
        "\n",
        "s = {1, 2, 3, 5, 4}\n",
        "\n",
        "s.pop() #remove random element\n",
        "\n",
        "print(s)"
      ],
      "metadata": {
        "colab": {
          "base_uri": "https://localhost:8080/"
        },
        "id": "ZnYJMrdcjiQp",
        "outputId": "3a0c206c-de28-40f1-a9fd-c1bd73e50823"
      },
      "execution_count": null,
      "outputs": [
        {
          "output_type": "stream",
          "name": "stdout",
          "text": [
            "{2, 3, 4, 5}\n"
          ]
        }
      ]
    },
    {
      "cell_type": "code",
      "source": [
        "s.pop() \n",
        "print(s)"
      ],
      "metadata": {
        "colab": {
          "base_uri": "https://localhost:8080/"
        },
        "id": "KkDKQ4lfjkl1",
        "outputId": "7592a305-b527-4918-9496-2a40346f21c3"
      },
      "execution_count": null,
      "outputs": [
        {
          "output_type": "stream",
          "name": "stdout",
          "text": [
            "{3, 4, 5}\n"
          ]
        }
      ]
    },
    {
      "cell_type": "code",
      "source": [
        "s = {1, 5, 2, 3, 6}\n",
        "\n",
        "s.clear()   #remove all items in set using clear() method\n",
        "\n",
        "print(s)"
      ],
      "metadata": {
        "colab": {
          "base_uri": "https://localhost:8080/"
        },
        "id": "RDlMMoUojmnl",
        "outputId": "c1c28b2a-8de7-42ae-891d-455d62e4aa18"
      },
      "execution_count": null,
      "outputs": [
        {
          "output_type": "stream",
          "name": "stdout",
          "text": [
            "set()\n"
          ]
        }
      ]
    },
    {
      "cell_type": "markdown",
      "source": [
        "Python Set Operations"
      ],
      "metadata": {
        "id": "Pb4U0Xv6jtDW"
      }
    },
    {
      "cell_type": "code",
      "source": [
        "set1 = {1, 2, 3, 4, 5}\n",
        "set2 = {3, 4, 5, 6, 7}\n",
        "\n",
        "#union of 2 sets using | operator\n",
        "\n",
        "print(set1 | set2)"
      ],
      "metadata": {
        "colab": {
          "base_uri": "https://localhost:8080/"
        },
        "id": "IrJS7-yhjpQB",
        "outputId": "558da42a-cb66-4a0e-ceee-91b454108f2a"
      },
      "execution_count": null,
      "outputs": [
        {
          "output_type": "stream",
          "name": "stdout",
          "text": [
            "{1, 2, 3, 4, 5, 6, 7}\n"
          ]
        }
      ]
    },
    {
      "cell_type": "code",
      "source": [
        "#another way of getting union of 2 sets\n",
        "print(set1.union(set2))"
      ],
      "metadata": {
        "colab": {
          "base_uri": "https://localhost:8080/"
        },
        "id": "Jhj82G-vjvgQ",
        "outputId": "9e0cd392-9eab-43af-fecc-f3fb9c57a907"
      },
      "execution_count": null,
      "outputs": [
        {
          "output_type": "stream",
          "name": "stdout",
          "text": [
            "{1, 2, 3, 4, 5, 6, 7}\n"
          ]
        }
      ]
    },
    {
      "cell_type": "code",
      "source": [
        "#intersection of 2 sets using & operator\n",
        "print(set1 & set2)"
      ],
      "metadata": {
        "colab": {
          "base_uri": "https://localhost:8080/"
        },
        "id": "FPUrI0evjx0z",
        "outputId": "77d18665-fdcd-4fb1-a7a0-a22ddef7c208"
      },
      "execution_count": null,
      "outputs": [
        {
          "output_type": "stream",
          "name": "stdout",
          "text": [
            "{3, 4, 5}\n"
          ]
        }
      ]
    },
    {
      "cell_type": "code",
      "source": [
        "#use intersection function \n",
        "print(set1.intersection(set2))"
      ],
      "metadata": {
        "colab": {
          "base_uri": "https://localhost:8080/"
        },
        "id": "5OeVk5YKjzjK",
        "outputId": "749a3ceb-9a57-41d7-f4dd-9949f01ee2d8"
      },
      "execution_count": null,
      "outputs": [
        {
          "output_type": "stream",
          "name": "stdout",
          "text": [
            "{3, 4, 5}\n"
          ]
        }
      ]
    },
    {
      "cell_type": "code",
      "source": [
        "#set Difference: set of elements that are only in set1 but not in set2\n",
        "\n",
        "print(set1 - set2)"
      ],
      "metadata": {
        "colab": {
          "base_uri": "https://localhost:8080/"
        },
        "id": "ORLlSs7Gj4qz",
        "outputId": "0edd55dc-5c65-4c67-9ffe-4411abe9d702"
      },
      "execution_count": null,
      "outputs": [
        {
          "output_type": "stream",
          "name": "stdout",
          "text": [
            "{1, 2}\n"
          ]
        }
      ]
    },
    {
      "cell_type": "code",
      "source": [
        "#use differnce function \n",
        "print(set1.difference(set2))"
      ],
      "metadata": {
        "colab": {
          "base_uri": "https://localhost:8080/"
        },
        "id": "fBEmVx6Aj67R",
        "outputId": "d9a7533e-740a-4b48-a85a-75b03669e94e"
      },
      "execution_count": null,
      "outputs": [
        {
          "output_type": "stream",
          "name": "stdout",
          "text": [
            "{1, 2}\n"
          ]
        }
      ]
    },
    {
      "cell_type": "code",
      "source": [
        "\"\"\"symmetric difference: set of elements in both set1 and set2 \n",
        "#except those that are common in both.\"\"\"\n",
        "\n",
        "#use ^ operator\n",
        "\n",
        "print(set1^set2)"
      ],
      "metadata": {
        "colab": {
          "base_uri": "https://localhost:8080/"
        },
        "id": "6lORCA-Qj8b3",
        "outputId": "3d0fae52-2fba-43a2-800e-5e33dff13b5c"
      },
      "execution_count": null,
      "outputs": [
        {
          "output_type": "stream",
          "name": "stdout",
          "text": [
            "{1, 2, 6, 7}\n"
          ]
        }
      ]
    },
    {
      "cell_type": "code",
      "source": [
        "#use symmetric_difference function\n",
        "print(set1.symmetric_difference(set2))"
      ],
      "metadata": {
        "id": "B6t83kZZj-pA",
        "outputId": "46d2a39e-cfde-4e67-ca41-a070794a1921",
        "colab": {
          "base_uri": "https://localhost:8080/"
        }
      },
      "execution_count": null,
      "outputs": [
        {
          "output_type": "stream",
          "name": "stdout",
          "text": [
            "{1, 2, 6, 7}\n"
          ]
        }
      ]
    },
    {
      "cell_type": "markdown",
      "source": [
        "Dictionary\n",
        "Python dictionary is an unordered collection of items. While other compound data types have only value as an element, a dictionary has a key: value pair.\n",
        "\n",
        "Dict Creation"
      ],
      "metadata": {
        "id": "PJYsc0wPHKKu"
      }
    },
    {
      "cell_type": "code",
      "source": [
        "#empty dictionary\n",
        "my_dict = {}\n",
        "\n",
        "#dictionary with integer keys\n",
        "my_dict = {1: 'abc', 2: 'xyz'}\n",
        "print(my_dict)\n",
        "\n",
        "#dictionary with mixed keys\n",
        "my_dict = {'name': 'satish', 1: ['abc', 'xyz']}\n",
        "print(my_dict)\n",
        "\n",
        "\n",
        "#create empty dictionary using dict()\n",
        "my_dict = dict()\n",
        "\n",
        "my_dict = dict([(1, 'abc'), (2, 'xyz')])    #create a dict with list of tuples\n",
        "print(my_dict)"
      ],
      "metadata": {
        "id": "J_Lfc5ixkAWB"
      },
      "execution_count": null,
      "outputs": []
    },
    {
      "cell_type": "markdown",
      "source": [
        "Dict Access"
      ],
      "metadata": {
        "id": "7EFhKpyTOXN1"
      }
    },
    {
      "cell_type": "code",
      "source": [
        "my_dict = {'name': 'satish', 'age': 27, 'address': 'guntur'}\n",
        "\n",
        "#get name\n",
        "print(my_dict['name'])"
      ],
      "metadata": {
        "colab": {
          "base_uri": "https://localhost:8080/"
        },
        "id": "xnUoS4ohOWK_",
        "outputId": "d5ed21f3-5d67-4c45-ebd9-756f561f0b5f"
      },
      "execution_count": 1,
      "outputs": [
        {
          "output_type": "stream",
          "name": "stdout",
          "text": [
            "satish\n"
          ]
        }
      ]
    },
    {
      "cell_type": "code",
      "source": [
        "#if key is not present it gives KeyError\n",
        "print(my_dict['degree'])"
      ],
      "metadata": {
        "colab": {
          "base_uri": "https://localhost:8080/",
          "height": 184
        },
        "id": "HMTEPVIkOcHi",
        "outputId": "2cd0c662-e046-45aa-c8c2-908253b63dd2"
      },
      "execution_count": 2,
      "outputs": [
        {
          "output_type": "error",
          "ename": "KeyError",
          "evalue": "ignored",
          "traceback": [
            "\u001b[0;31m---------------------------------------------------------------------------\u001b[0m",
            "\u001b[0;31mKeyError\u001b[0m                                  Traceback (most recent call last)",
            "\u001b[0;32m<ipython-input-2-ac4c061783ba>\u001b[0m in \u001b[0;36m<module>\u001b[0;34m()\u001b[0m\n\u001b[1;32m      1\u001b[0m \u001b[0;31m#if key is not present it gives KeyError\u001b[0m\u001b[0;34m\u001b[0m\u001b[0;34m\u001b[0m\u001b[0;34m\u001b[0m\u001b[0m\n\u001b[0;32m----> 2\u001b[0;31m \u001b[0mprint\u001b[0m\u001b[0;34m(\u001b[0m\u001b[0mmy_dict\u001b[0m\u001b[0;34m[\u001b[0m\u001b[0;34m'degree'\u001b[0m\u001b[0;34m]\u001b[0m\u001b[0;34m)\u001b[0m\u001b[0;34m\u001b[0m\u001b[0;34m\u001b[0m\u001b[0m\n\u001b[0m",
            "\u001b[0;31mKeyError\u001b[0m: 'degree'"
          ]
        }
      ]
    },
    {
      "cell_type": "code",
      "source": [
        "#another way of accessing key\n",
        "print(my_dict.get('address'))"
      ],
      "metadata": {
        "colab": {
          "base_uri": "https://localhost:8080/"
        },
        "id": "DDHJ0BI8OeE9",
        "outputId": "01ba326c-f118-4e68-b4d7-94208dc0beb2"
      },
      "execution_count": 3,
      "outputs": [
        {
          "output_type": "stream",
          "name": "stdout",
          "text": [
            "guntur\n"
          ]
        }
      ]
    },
    {
      "cell_type": "code",
      "source": [
        "#if key is not present it will give None using get method\n",
        "print(my_dict.get('degree'))"
      ],
      "metadata": {
        "colab": {
          "base_uri": "https://localhost:8080/"
        },
        "id": "NB8h2yPdOgaN",
        "outputId": "deda15e5-5054-4f4a-c788-fbd51635024b"
      },
      "execution_count": 4,
      "outputs": [
        {
          "output_type": "stream",
          "name": "stdout",
          "text": [
            "None\n"
          ]
        }
      ]
    },
    {
      "cell_type": "markdown",
      "source": [
        "Dict Add or Modify Elements"
      ],
      "metadata": {
        "id": "qepEAaIVO2sV"
      }
    },
    {
      "cell_type": "code",
      "source": [
        "my_dict = {'name': 'satish', 'age': 27, 'address': 'guntur'}\n",
        "\n",
        "#update name \n",
        "my_dict['name'] = 'raju'\n",
        "\n",
        "print(my_dict)"
      ],
      "metadata": {
        "colab": {
          "base_uri": "https://localhost:8080/"
        },
        "id": "t7_ejOGMO1_c",
        "outputId": "f8b94669-1275-41ab-b0b5-aa29c9468fe7"
      },
      "execution_count": 5,
      "outputs": [
        {
          "output_type": "stream",
          "name": "stdout",
          "text": [
            "{'name': 'raju', 'age': 27, 'address': 'guntur'}\n"
          ]
        }
      ]
    },
    {
      "cell_type": "code",
      "source": [
        "#add new key\n",
        "my_dict['degree'] = 'M.Tech'\n",
        "\n",
        "print(my_dict)"
      ],
      "metadata": {
        "colab": {
          "base_uri": "https://localhost:8080/"
        },
        "id": "F2HbLukEOi6J",
        "outputId": "7c613a80-a03f-45f5-a460-f76dc06459d2"
      },
      "execution_count": 7,
      "outputs": [
        {
          "output_type": "stream",
          "name": "stdout",
          "text": [
            "{'name': 'raju', 'age': 27, 'address': 'guntur', 'degree': 'M.Tech'}\n"
          ]
        }
      ]
    },
    {
      "cell_type": "markdown",
      "source": [
        "Dict Delete or Remove Element"
      ],
      "metadata": {
        "id": "S47R4oD_O8Bg"
      }
    },
    {
      "cell_type": "code",
      "source": [
        "#create a dictionary\n",
        "my_dict = {'name': 'satish', 'age': 27, 'address': 'guntur'}\n",
        "\n",
        "#remove a particular item\n",
        "print(my_dict.pop('age'))\n",
        "\n",
        "print(my_dict)"
      ],
      "metadata": {
        "colab": {
          "base_uri": "https://localhost:8080/"
        },
        "id": "2Gtx-BqoO7Py",
        "outputId": "e4a2e323-540b-4524-e2dd-4a07386bcb6d"
      },
      "execution_count": 8,
      "outputs": [
        {
          "output_type": "stream",
          "name": "stdout",
          "text": [
            "27\n",
            "{'name': 'satish', 'address': 'guntur'}\n"
          ]
        }
      ]
    },
    {
      "cell_type": "code",
      "source": [
        "my_dict = {'name': 'satish', 'age': 27, 'address': 'guntur'}\n",
        "\n",
        "#remove an arbitarty key\n",
        "my_dict.popitem()\n",
        "\n",
        "print(my_dict)"
      ],
      "metadata": {
        "colab": {
          "base_uri": "https://localhost:8080/"
        },
        "id": "WsqHV_QSQSSc",
        "outputId": "7ebdf048-fdf9-463e-a6a1-0f5e4dea4771"
      },
      "execution_count": 9,
      "outputs": [
        {
          "output_type": "stream",
          "name": "stdout",
          "text": [
            "{'name': 'satish', 'age': 27}\n"
          ]
        }
      ]
    },
    {
      "cell_type": "code",
      "source": [
        "squares = {2: 4, 3: 9, 4: 16, 5: 25}\n",
        "\n",
        "#delete particular key\n",
        "del squares[2]\n",
        "\n",
        "print(squares)"
      ],
      "metadata": {
        "colab": {
          "base_uri": "https://localhost:8080/"
        },
        "id": "MdhjbFRUQTzQ",
        "outputId": "61fadbdd-3138-47ca-a629-baa9917a9e41"
      },
      "execution_count": 10,
      "outputs": [
        {
          "output_type": "stream",
          "name": "stdout",
          "text": [
            "{3: 9, 4: 16, 5: 25}\n"
          ]
        }
      ]
    },
    {
      "cell_type": "code",
      "source": [
        "#remove all items\n",
        "squares.clear()\n",
        "\n",
        "print(squares)"
      ],
      "metadata": {
        "colab": {
          "base_uri": "https://localhost:8080/"
        },
        "id": "ZygByznDQVHf",
        "outputId": "31c1b3d0-d765-4863-f6ee-ae59980860f8"
      },
      "execution_count": 11,
      "outputs": [
        {
          "output_type": "stream",
          "name": "stdout",
          "text": [
            "{}\n"
          ]
        }
      ]
    },
    {
      "cell_type": "code",
      "source": [
        "squares = {2: 4, 3: 9, 4: 16, 5: 25}\n",
        "\n",
        "#delete dictionary itself\n",
        "del squares\n",
        "\n",
        "print(squares) #NameError because dict is deleted"
      ],
      "metadata": {
        "colab": {
          "base_uri": "https://localhost:8080/",
          "height": 201
        },
        "id": "I4mxeRldQWda",
        "outputId": "0e73ce1e-c3ee-4774-92e0-d8cd129f5614"
      },
      "execution_count": 12,
      "outputs": [
        {
          "output_type": "error",
          "ename": "NameError",
          "evalue": "ignored",
          "traceback": [
            "\u001b[0;31m---------------------------------------------------------------------------\u001b[0m",
            "\u001b[0;31mNameError\u001b[0m                                 Traceback (most recent call last)",
            "\u001b[0;32m<ipython-input-12-6fac7747ecad>\u001b[0m in \u001b[0;36m<module>\u001b[0;34m()\u001b[0m\n\u001b[1;32m      4\u001b[0m \u001b[0;32mdel\u001b[0m \u001b[0msquares\u001b[0m\u001b[0;34m\u001b[0m\u001b[0;34m\u001b[0m\u001b[0m\n\u001b[1;32m      5\u001b[0m \u001b[0;34m\u001b[0m\u001b[0m\n\u001b[0;32m----> 6\u001b[0;31m \u001b[0mprint\u001b[0m\u001b[0;34m(\u001b[0m\u001b[0msquares\u001b[0m\u001b[0;34m)\u001b[0m \u001b[0;31m#NameError because dict is deleted\u001b[0m\u001b[0;34m\u001b[0m\u001b[0;34m\u001b[0m\u001b[0m\n\u001b[0m",
            "\u001b[0;31mNameError\u001b[0m: name 'squares' is not defined"
          ]
        }
      ]
    },
    {
      "cell_type": "markdown",
      "source": [
        "Dictionary Methods"
      ],
      "metadata": {
        "id": "VwBxyN6OQZ7Q"
      }
    },
    {
      "cell_type": "code",
      "source": [
        "squares = {2: 4, 3: 9, 4: 16, 5: 25}\n",
        "\n",
        "my_dict = squares.copy()\n",
        "print(my_dict)"
      ],
      "metadata": {
        "colab": {
          "base_uri": "https://localhost:8080/"
        },
        "id": "o2vdq-RDQbd1",
        "outputId": "66d04777-3659-4cfe-af7c-11f866d9e2d4"
      },
      "execution_count": 13,
      "outputs": [
        {
          "output_type": "stream",
          "name": "stdout",
          "text": [
            "{2: 4, 3: 9, 4: 16, 5: 25}\n"
          ]
        }
      ]
    },
    {
      "cell_type": "code",
      "source": [
        "#fromkeys[seq[, v]] -> Return a new dictionary with keys from seq and value equal to v (defaults to None).\n",
        "subjects = {}.fromkeys(['Math', 'English', 'Hindi'], 0)\n",
        "print(subjects)"
      ],
      "metadata": {
        "colab": {
          "base_uri": "https://localhost:8080/"
        },
        "id": "6Uy1-U2vQc9s",
        "outputId": "10b7c308-547a-4faa-dd47-ad408fbea11a"
      },
      "execution_count": 14,
      "outputs": [
        {
          "output_type": "stream",
          "name": "stdout",
          "text": [
            "{'Math': 0, 'English': 0, 'Hindi': 0}\n"
          ]
        }
      ]
    },
    {
      "cell_type": "code",
      "source": [
        "subjects = {2:4, 3:9, 4:16, 5:25}\n",
        "print(subjects.items()) #return a new view of the dictionary items (key, value)"
      ],
      "metadata": {
        "colab": {
          "base_uri": "https://localhost:8080/"
        },
        "id": "IMvYJslqQeln",
        "outputId": "0ecb2366-1ef7-4657-9baa-1a36a00be153"
      },
      "execution_count": 15,
      "outputs": [
        {
          "output_type": "stream",
          "name": "stdout",
          "text": [
            "dict_items([(2, 4), (3, 9), (4, 16), (5, 25)])\n"
          ]
        }
      ]
    },
    {
      "cell_type": "code",
      "source": [
        "subjects = {2:4, 3:9, 4:16, 5:25}\n",
        "print(subjects.keys()) #return a new view of the dictionary keys"
      ],
      "metadata": {
        "colab": {
          "base_uri": "https://localhost:8080/"
        },
        "id": "b7X8_9eMQhUw",
        "outputId": "0884f875-e53e-48ef-910a-07d3cbfea6ba"
      },
      "execution_count": 16,
      "outputs": [
        {
          "output_type": "stream",
          "name": "stdout",
          "text": [
            "dict_keys([2, 3, 4, 5])\n"
          ]
        }
      ]
    },
    {
      "cell_type": "code",
      "source": [
        "subjects = {2:4, 3:9, 4:16, 5:25}\n",
        "print(subjects.values()) #return a new view of the dictionary valu"
      ],
      "metadata": {
        "colab": {
          "base_uri": "https://localhost:8080/"
        },
        "id": "gYNqBhApQl00",
        "outputId": "79fb3da8-5016-4824-94af-d2886ebdc233"
      },
      "execution_count": 17,
      "outputs": [
        {
          "output_type": "stream",
          "name": "stdout",
          "text": [
            "dict_values([4, 9, 16, 25])\n"
          ]
        }
      ]
    },
    {
      "cell_type": "code",
      "source": [
        "#get list of all available methods and attributes of dictionary\n",
        "d = {}\n",
        "print(dir(d))"
      ],
      "metadata": {
        "colab": {
          "base_uri": "https://localhost:8080/"
        },
        "id": "c9vAAipvQoCF",
        "outputId": "b0ea10f6-af3e-4aaf-d2df-cb720af1a21e"
      },
      "execution_count": 18,
      "outputs": [
        {
          "output_type": "stream",
          "name": "stdout",
          "text": [
            "['__class__', '__contains__', '__delattr__', '__delitem__', '__dir__', '__doc__', '__eq__', '__format__', '__ge__', '__getattribute__', '__getitem__', '__gt__', '__hash__', '__init__', '__init_subclass__', '__iter__', '__le__', '__len__', '__lt__', '__ne__', '__new__', '__reduce__', '__reduce_ex__', '__repr__', '__setattr__', '__setitem__', '__sizeof__', '__str__', '__subclasshook__', 'clear', 'copy', 'fromkeys', 'get', 'items', 'keys', 'pop', 'popitem', 'setdefault', 'update', 'values']\n"
          ]
        }
      ]
    },
    {
      "cell_type": "markdown",
      "source": [
        "Dict Comprehension"
      ],
      "metadata": {
        "id": "ijgVivK1Q1qP"
      }
    },
    {
      "cell_type": "code",
      "source": [
        "#Dict comprehensions are just like list comprehensions but for dictionaries\n",
        "\n",
        "d = {'a': 1, 'b': 2, 'c': 3}\n",
        "for pair in d.items():\n",
        "    print(pair)"
      ],
      "metadata": {
        "colab": {
          "base_uri": "https://localhost:8080/"
        },
        "id": "zwtE3EWeQptq",
        "outputId": "b9e63ca0-3f01-4fac-ae2d-31ee16045817"
      },
      "execution_count": 20,
      "outputs": [
        {
          "output_type": "stream",
          "name": "stdout",
          "text": [
            "('a', 1)\n",
            "('b', 2)\n",
            "('c', 3)\n"
          ]
        }
      ]
    },
    {
      "cell_type": "code",
      "source": [
        "#Creating a new dictionary with only pairs where the value is larger than 2\n",
        "d = {'a': 1, 'b': 2, 'c': 3, 'd': 4}\n",
        "new_dict = {k:v for k, v in d.items() if v > 2}\n",
        "print(new_dict)"
      ],
      "metadata": {
        "colab": {
          "base_uri": "https://localhost:8080/"
        },
        "id": "ezI6sN9JQ2rA",
        "outputId": "f5ca3e44-e2af-45de-c97b-d9902079de62"
      },
      "execution_count": 21,
      "outputs": [
        {
          "output_type": "stream",
          "name": "stdout",
          "text": [
            "{'c': 3, 'd': 4}\n"
          ]
        }
      ]
    },
    {
      "cell_type": "code",
      "source": [
        "#We can also perform operations on the key value pairs\n",
        "d = {'a':1,'b':2,'c':3,'d':4,'e':5}\n",
        "d = {k + 'c':v * 2 for k, v in d.items() if v > 2}\n",
        "print(d)"
      ],
      "metadata": {
        "colab": {
          "base_uri": "https://localhost:8080/"
        },
        "id": "mVKb4sVbQ5d9",
        "outputId": "e80a95c4-0056-4c62-de27-a17de5023627"
      },
      "execution_count": 22,
      "outputs": [
        {
          "output_type": "stream",
          "name": "stdout",
          "text": [
            "{'cc': 6, 'dc': 8, 'ec': 10}\n"
          ]
        }
      ]
    },
    {
      "cell_type": "code",
      "source": [
        ""
      ],
      "metadata": {
        "id": "r-7thdbnQ7S2"
      },
      "execution_count": null,
      "outputs": []
    }
  ]
}